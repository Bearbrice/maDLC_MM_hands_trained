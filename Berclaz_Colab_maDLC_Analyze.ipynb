{
  "nbformat": 4,
  "nbformat_minor": 0,
  "metadata": {
    "colab": {
      "name": "Berclaz_Colab_maDLC_Analyze.ipynb",
      "provenance": [],
      "collapsed_sections": [],
      "include_colab_link": true
    },
    "kernelspec": {
      "name": "python3",
      "display_name": "Python 3"
    },
    "accelerator": "GPU"
  },
  "cells": [
    {
      "cell_type": "markdown",
      "metadata": {
        "id": "view-in-github",
        "colab_type": "text"
      },
      "source": [
        "<a href=\"https://colab.research.google.com/github/Bearbrice/maDLC_MM_hands_trained/blob/main/Berclaz_Colab_maDLC_Analyze.ipynb\" target=\"_parent\"><img src=\"https://colab.research.google.com/assets/colab-badge.svg\" alt=\"Open In Colab\"/></a>"
      ]
    },
    {
      "cell_type": "markdown",
      "metadata": {
        "id": "RK255E7YoEIt"
      },
      "source": [
        "# Hands tracking with DeepLabCut - Training and evaluation of the network\n",
        "\n",
        "> Using multi-animal DLC (maDLC)\n",
        "\n",
        "This notebook illustrates how to, for multi-animal projects, use the cloud-based GPU to:\n",
        "- evaluate a network\n",
        "- cross evaluate inference parameters\n",
        "- analyze novel videos\n",
        "- assemble tracklets\n",
        "- create quality check plots\n",
        "\n",
        "## Credits and references:\n",
        "* Cloned from https://github.com/AlexEMG/DeepLabCut\n",
        "\n",
        "* Nath\\*, Mathis\\* et al.: Using DeepLabCut for markerless pose estimation during behavior across species. Nature Protocols, 2019.\n",
        "\n",
        "* Paper: https://www.nature.com/articles/s41596-019-0176-0\n",
        "\n",
        "* Pre-print: https://www.biorxiv.org/content/biorxiv/early/2018/11/24/476531.full.pdf\n",
        "\n",
        "* Adaptation: Brice Berclaz\n",
        "\n",
        "\n",
        "\n",
        "\n"
      ]
    },
    {
      "cell_type": "markdown",
      "metadata": {
        "id": "txoddlM8hLKm"
      },
      "source": [
        "## First, go to \"Runtime\" ->\"change runtime type\"->select \"Python3\", and then select \"GPU\"\n"
      ]
    },
    {
      "cell_type": "code",
      "metadata": {
        "id": "q23BzhA6CXxu",
        "colab": {
          "base_uri": "https://localhost:8080/",
          "height": 1000
        },
        "outputId": "67f2cbb6-53f4-4e82-e39f-e82d3aeea334"
      },
      "source": [
        "#(this will take a few minutes to install all the dependences!)\n",
        "!pip install deeplabcut\n",
        "%reload_ext numpy\n",
        "%reload_ext scipy\n",
        "%reload_ext matplotlib\n",
        "%reload_ext mpl_toolkits"
      ],
      "execution_count": 1,
      "outputs": [
        {
          "output_type": "stream",
          "text": [
            "Collecting deeplabcut\n",
            "\u001b[?25l  Downloading https://files.pythonhosted.org/packages/04/fc/b5774e22a3eeaac1e1ca5670aa2281a5c408c9abc25f51e53e3f2525aebd/deeplabcut-2.1.10.4-py3-none-any.whl (695kB)\n",
            "\u001b[K     |████████████████████████████████| 696kB 8.0MB/s \n",
            "\u001b[?25hCollecting matplotlib==3.1.3\n",
            "\u001b[?25l  Downloading https://files.pythonhosted.org/packages/4c/9b/35ab3469fd1509f7636a344940569ebfd33239673fd2318e80b4700a257c/matplotlib-3.1.3-cp37-cp37m-manylinux1_x86_64.whl (13.1MB)\n",
            "\u001b[K     |████████████████████████████████| 13.1MB 229kB/s \n",
            "\u001b[?25hRequirement already satisfied: networkx in /usr/local/lib/python3.7/dist-packages (from deeplabcut) (2.5.1)\n",
            "Requirement already satisfied: pyyaml in /usr/local/lib/python3.7/dist-packages (from deeplabcut) (3.13)\n",
            "Requirement already satisfied: click in /usr/local/lib/python3.7/dist-packages (from deeplabcut) (7.1.2)\n",
            "Collecting scikit-image>=0.17\n",
            "\u001b[?25l  Downloading https://files.pythonhosted.org/packages/cd/d9/d738fdb4954575fb631b9c7a2eaa59df3ab8b7f3c2fc28a37259a42d8a49/scikit_image-0.18.2-cp37-cp37m-manylinux1_x86_64.whl (29.2MB)\n",
            "\u001b[K     |████████████████████████████████| 29.2MB 104kB/s \n",
            "\u001b[?25hRequirement already satisfied: moviepy<=1.0.1 in /usr/local/lib/python3.7/dist-packages (from deeplabcut) (0.2.3.5)\n",
            "Requirement already satisfied: patsy in /usr/local/lib/python3.7/dist-packages (from deeplabcut) (0.5.1)\n",
            "Requirement already satisfied: setuptools in /usr/local/lib/python3.7/dist-packages (from deeplabcut) (57.0.0)\n",
            "Requirement already satisfied: ipython in /usr/local/lib/python3.7/dist-packages (from deeplabcut) (5.5.0)\n",
            "Collecting numpy~=1.17.3\n",
            "\u001b[?25l  Downloading https://files.pythonhosted.org/packages/b1/51/20098150b6108061cb7542af3de7bfcfe0182bca21613697153e49dc4adc/numpy-1.17.5-cp37-cp37m-manylinux1_x86_64.whl (20.0MB)\n",
            "\u001b[K     |████████████████████████████████| 20.0MB 1.4MB/s \n",
            "\u001b[?25hRequirement already satisfied: wheel in /usr/local/lib/python3.7/dist-packages (from deeplabcut) (0.36.2)\n",
            "Collecting ruamel.yaml>=0.15.0\n",
            "\u001b[?25l  Downloading https://files.pythonhosted.org/packages/0e/57/19361b93542a1bb071fe8b7dd5ae792de6e8ab86c707aa2c44db08c60b99/ruamel.yaml-0.17.10-py3-none-any.whl (108kB)\n",
            "\u001b[K     |████████████████████████████████| 112kB 54.3MB/s \n",
            "\u001b[?25hCollecting statsmodels>=0.11\n",
            "\u001b[?25l  Downloading https://files.pythonhosted.org/packages/da/69/8eef30a6237c54f3c0b524140e2975f4b1eea3489b45eb3339574fc8acee/statsmodels-0.12.2-cp37-cp37m-manylinux1_x86_64.whl (9.5MB)\n",
            "\u001b[K     |████████████████████████████████| 9.5MB 41.7MB/s \n",
            "\u001b[?25hCollecting opencv-python-headless~=3.4.9.33\n",
            "\u001b[?25l  Downloading https://files.pythonhosted.org/packages/67/1c/5544e626593158c6a23599f40193464121526e45aa470001a8113e45d9b8/opencv_python_headless-3.4.9.33-cp37-cp37m-manylinux1_x86_64.whl (21.6MB)\n",
            "\u001b[K     |████████████████████████████████| 21.6MB 1.6MB/s \n",
            "\u001b[?25hRequirement already satisfied: pandas>=1.0.1 in /usr/local/lib/python3.7/dist-packages (from deeplabcut) (1.1.5)\n",
            "Requirement already satisfied: six in /usr/local/lib/python3.7/dist-packages (from deeplabcut) (1.15.0)\n",
            "Requirement already satisfied: intel-openmp in /usr/local/lib/python3.7/dist-packages (from deeplabcut) (2021.3.0)\n",
            "Collecting filterpy\n",
            "\u001b[?25l  Downloading https://files.pythonhosted.org/packages/f6/1d/ac8914360460fafa1990890259b7fa5ef7ba4cd59014e782e4ab3ab144d8/filterpy-1.4.5.zip (177kB)\n",
            "\u001b[K     |████████████████████████████████| 184kB 55.2MB/s \n",
            "\u001b[?25hCollecting numba==0.51.1\n",
            "\u001b[?25l  Downloading https://files.pythonhosted.org/packages/e4/f3/a32d3bc3d23923228e49276bbc1bdce3763dd19a299c4b4164d83bb5989f/numba-0.51.1-cp37-cp37m-manylinux2014_x86_64.whl (3.1MB)\n",
            "\u001b[K     |████████████████████████████████| 3.1MB 35.8MB/s \n",
            "\u001b[?25hRequirement already satisfied: tables in /usr/local/lib/python3.7/dist-packages (from deeplabcut) (3.4.4)\n",
            "Collecting tensorpack==0.9.8\n",
            "\u001b[?25l  Downloading https://files.pythonhosted.org/packages/a8/cb/62dc9115722a0b4fbeca6275ffbe47118149171ffafa7d1db6e295453aae/tensorpack-0.9.8-py2.py3-none-any.whl (288kB)\n",
            "\u001b[K     |████████████████████████████████| 296kB 56.1MB/s \n",
            "\u001b[?25hCollecting bayesian-optimization\n",
            "  Downloading https://files.pythonhosted.org/packages/bb/7a/fd8059a3881d3ab37ac8f72f56b73937a14e8bb14a9733e68cc8b17dbe3c/bayesian-optimization-1.2.0.tar.gz\n",
            "Requirement already satisfied: scipy>=1.4 in /usr/local/lib/python3.7/dist-packages (from deeplabcut) (1.4.1)\n",
            "Requirement already satisfied: chardet in /usr/local/lib/python3.7/dist-packages (from deeplabcut) (3.0.4)\n",
            "Requirement already satisfied: h5py in /usr/local/lib/python3.7/dist-packages (from deeplabcut) (3.1.0)\n",
            "Requirement already satisfied: python-dateutil in /usr/local/lib/python3.7/dist-packages (from deeplabcut) (2.8.1)\n",
            "Requirement already satisfied: imgaug in /usr/local/lib/python3.7/dist-packages (from deeplabcut) (0.2.9)\n",
            "Requirement already satisfied: ipython-genutils in /usr/local/lib/python3.7/dist-packages (from deeplabcut) (0.2.0)\n",
            "Requirement already satisfied: tqdm in /usr/local/lib/python3.7/dist-packages (from deeplabcut) (4.41.1)\n",
            "Requirement already satisfied: scikit-learn in /usr/local/lib/python3.7/dist-packages (from deeplabcut) (0.22.2.post1)\n",
            "Requirement already satisfied: certifi in /usr/local/lib/python3.7/dist-packages (from deeplabcut) (2021.5.30)\n",
            "Requirement already satisfied: cython in /usr/local/lib/python3.7/dist-packages (from deeplabcut) (0.29.23)\n",
            "Requirement already satisfied: cycler>=0.10 in /usr/local/lib/python3.7/dist-packages (from matplotlib==3.1.3->deeplabcut) (0.10.0)\n",
            "Requirement already satisfied: pyparsing!=2.0.4,!=2.1.2,!=2.1.6,>=2.0.1 in /usr/local/lib/python3.7/dist-packages (from matplotlib==3.1.3->deeplabcut) (2.4.7)\n",
            "Requirement already satisfied: kiwisolver>=1.0.1 in /usr/local/lib/python3.7/dist-packages (from matplotlib==3.1.3->deeplabcut) (1.3.1)\n",
            "Requirement already satisfied: decorator<5,>=4.3 in /usr/local/lib/python3.7/dist-packages (from networkx->deeplabcut) (4.4.2)\n",
            "Requirement already satisfied: imageio>=2.3.0 in /usr/local/lib/python3.7/dist-packages (from scikit-image>=0.17->deeplabcut) (2.4.1)\n",
            "Requirement already satisfied: pillow!=7.1.0,!=7.1.1,>=4.3.0 in /usr/local/lib/python3.7/dist-packages (from scikit-image>=0.17->deeplabcut) (7.1.2)\n",
            "Requirement already satisfied: PyWavelets>=1.1.1 in /usr/local/lib/python3.7/dist-packages (from scikit-image>=0.17->deeplabcut) (1.1.1)\n",
            "Requirement already satisfied: tifffile>=2019.7.26 in /usr/local/lib/python3.7/dist-packages (from scikit-image>=0.17->deeplabcut) (2021.7.2)\n",
            "Requirement already satisfied: simplegeneric>0.8 in /usr/local/lib/python3.7/dist-packages (from ipython->deeplabcut) (0.8.1)\n",
            "Requirement already satisfied: pexpect; sys_platform != \"win32\" in /usr/local/lib/python3.7/dist-packages (from ipython->deeplabcut) (4.8.0)\n",
            "Requirement already satisfied: pickleshare in /usr/local/lib/python3.7/dist-packages (from ipython->deeplabcut) (0.7.5)\n",
            "Requirement already satisfied: pygments in /usr/local/lib/python3.7/dist-packages (from ipython->deeplabcut) (2.6.1)\n",
            "Requirement already satisfied: traitlets>=4.2 in /usr/local/lib/python3.7/dist-packages (from ipython->deeplabcut) (5.0.5)\n",
            "Requirement already satisfied: prompt-toolkit<2.0.0,>=1.0.4 in /usr/local/lib/python3.7/dist-packages (from ipython->deeplabcut) (1.0.18)\n",
            "Collecting ruamel.yaml.clib>=0.1.2; platform_python_implementation == \"CPython\" and python_version < \"3.10\"\n",
            "\u001b[?25l  Downloading https://files.pythonhosted.org/packages/98/8a/ba37489b423916162b086b01c7c18001cf297350694180468e1698085c58/ruamel.yaml.clib-0.2.6-cp37-cp37m-manylinux1_x86_64.whl (546kB)\n",
            "\u001b[K     |████████████████████████████████| 552kB 40.8MB/s \n",
            "\u001b[?25hRequirement already satisfied: pytz>=2017.2 in /usr/local/lib/python3.7/dist-packages (from pandas>=1.0.1->deeplabcut) (2018.9)\n",
            "Requirement already satisfied: llvmlite<0.35,>=0.34.0.dev0 in /usr/local/lib/python3.7/dist-packages (from numba==0.51.1->deeplabcut) (0.34.0)\n",
            "Requirement already satisfied: numexpr>=2.5.2 in /usr/local/lib/python3.7/dist-packages (from tables->deeplabcut) (2.7.3)\n",
            "Requirement already satisfied: psutil>=5 in /usr/local/lib/python3.7/dist-packages (from tensorpack==0.9.8->deeplabcut) (5.4.8)\n",
            "Requirement already satisfied: msgpack>=0.5.2 in /usr/local/lib/python3.7/dist-packages (from tensorpack==0.9.8->deeplabcut) (1.0.2)\n",
            "Requirement already satisfied: pyzmq>=16 in /usr/local/lib/python3.7/dist-packages (from tensorpack==0.9.8->deeplabcut) (22.1.0)\n",
            "Requirement already satisfied: tabulate>=0.7.7 in /usr/local/lib/python3.7/dist-packages (from tensorpack==0.9.8->deeplabcut) (0.8.9)\n",
            "Collecting msgpack-numpy>=0.4.4.2\n",
            "  Downloading https://files.pythonhosted.org/packages/19/05/05b8d7c69c6abb36a34325cc3150089bdafc359f0a81fb998d93c5d5c737/msgpack_numpy-0.4.7.1-py2.py3-none-any.whl\n",
            "Requirement already satisfied: termcolor>=1.1 in /usr/local/lib/python3.7/dist-packages (from tensorpack==0.9.8->deeplabcut) (1.1.0)\n",
            "Requirement already satisfied: cached-property; python_version < \"3.8\" in /usr/local/lib/python3.7/dist-packages (from h5py->deeplabcut) (1.5.2)\n",
            "Requirement already satisfied: opencv-python in /usr/local/lib/python3.7/dist-packages (from imgaug->deeplabcut) (4.1.2.30)\n",
            "Requirement already satisfied: Shapely in /usr/local/lib/python3.7/dist-packages (from imgaug->deeplabcut) (1.7.1)\n",
            "Requirement already satisfied: joblib>=0.11 in /usr/local/lib/python3.7/dist-packages (from scikit-learn->deeplabcut) (1.0.1)\n",
            "Requirement already satisfied: ptyprocess>=0.5 in /usr/local/lib/python3.7/dist-packages (from pexpect; sys_platform != \"win32\"->ipython->deeplabcut) (0.7.0)\n",
            "Requirement already satisfied: wcwidth in /usr/local/lib/python3.7/dist-packages (from prompt-toolkit<2.0.0,>=1.0.4->ipython->deeplabcut) (0.2.5)\n",
            "Building wheels for collected packages: filterpy, bayesian-optimization\n",
            "  Building wheel for filterpy (setup.py) ... \u001b[?25l\u001b[?25hdone\n",
            "  Created wheel for filterpy: filename=filterpy-1.4.5-cp37-none-any.whl size=110476 sha256=1c3b5816addb25dad6a5b23aad1e3087d00d7176840ac61d39d80855e60d4198\n",
            "  Stored in directory: /root/.cache/pip/wheels/c3/0c/dd/e92392c3f38a41371602d99fc77d6c1d42aadbf0c6afccdd02\n",
            "  Building wheel for bayesian-optimization (setup.py) ... \u001b[?25l\u001b[?25hdone\n",
            "  Created wheel for bayesian-optimization: filename=bayesian_optimization-1.2.0-cp37-none-any.whl size=11686 sha256=87fa1e2ba7fad82bbfebdcebbd50d2230a8bad057e2f63abd65842506a4b98a8\n",
            "  Stored in directory: /root/.cache/pip/wheels/5a/56/ae/e0e3c1fc1954dc3ec712e2df547235ed072b448094d8f94aec\n",
            "Successfully built filterpy bayesian-optimization\n",
            "\u001b[31mERROR: tensorflow 2.5.0 has requirement numpy~=1.19.2, but you'll have numpy 1.17.5 which is incompatible.\u001b[0m\n",
            "\u001b[31mERROR: kapre 0.3.5 has requirement numpy>=1.18.5, but you'll have numpy 1.17.5 which is incompatible.\u001b[0m\n",
            "\u001b[31mERROR: datascience 0.10.6 has requirement folium==0.2.1, but you'll have folium 0.8.3 which is incompatible.\u001b[0m\n",
            "\u001b[31mERROR: albumentations 0.1.12 has requirement imgaug<0.2.7,>=0.2.5, but you'll have imgaug 0.2.9 which is incompatible.\u001b[0m\n",
            "Installing collected packages: numpy, matplotlib, scikit-image, ruamel.yaml.clib, ruamel.yaml, statsmodels, opencv-python-headless, filterpy, numba, msgpack-numpy, tensorpack, bayesian-optimization, deeplabcut\n",
            "  Found existing installation: numpy 1.19.5\n",
            "    Uninstalling numpy-1.19.5:\n",
            "      Successfully uninstalled numpy-1.19.5\n",
            "  Found existing installation: matplotlib 3.2.2\n",
            "    Uninstalling matplotlib-3.2.2:\n",
            "      Successfully uninstalled matplotlib-3.2.2\n",
            "  Found existing installation: scikit-image 0.16.2\n",
            "    Uninstalling scikit-image-0.16.2:\n",
            "      Successfully uninstalled scikit-image-0.16.2\n",
            "  Found existing installation: statsmodels 0.10.2\n",
            "    Uninstalling statsmodels-0.10.2:\n",
            "      Successfully uninstalled statsmodels-0.10.2\n",
            "  Found existing installation: numba 0.51.2\n",
            "    Uninstalling numba-0.51.2:\n",
            "      Successfully uninstalled numba-0.51.2\n",
            "Successfully installed bayesian-optimization-1.2.0 deeplabcut-2.1.10.4 filterpy-1.4.5 matplotlib-3.1.3 msgpack-numpy-0.4.7.1 numba-0.51.1 numpy-1.17.5 opencv-python-headless-3.4.9.33 ruamel.yaml-0.17.10 ruamel.yaml.clib-0.2.6 scikit-image-0.18.2 statsmodels-0.12.2 tensorpack-0.9.8\n"
          ],
          "name": "stdout"
        },
        {
          "output_type": "display_data",
          "data": {
            "application/vnd.colab-display-data+json": {
              "pip_warning": {
                "packages": [
                  "matplotlib",
                  "mpl_toolkits",
                  "numpy"
                ]
              }
            }
          },
          "metadata": {
            "tags": []
          }
        }
      ]
    },
    {
      "cell_type": "markdown",
      "metadata": {
        "id": "25wSj6TlVclR"
      },
      "source": [
        "**(Be sure to click \"RESTART RUNTIME\" is it is displayed above above before moving on !)**"
      ]
    },
    {
      "cell_type": "markdown",
      "metadata": {
        "id": "Ofr5rDHVY5Om"
      },
      "source": [
        "Set up DLC!"
      ]
    },
    {
      "cell_type": "code",
      "metadata": {
        "id": "Y36K4Eux3h-X",
        "colab": {
          "base_uri": "https://localhost:8080/",
          "height": 72
        },
        "outputId": "2516f752-6ad0-4854-dd8a-55178e852f94"
      },
      "source": [
        "# Use TensorFlow 1.x:\n",
        "%tensorflow_version 1.x\n",
        "\n",
        "#GUIs don't work on the cloud, so label your data locally on your computer! This will suppress the GUI support\n",
        "import os\n",
        "os.environ[\"DLClight\"]=\"True\"\n",
        "import deeplabcut\n",
        "deeplabcut.__version__"
      ],
      "execution_count": 1,
      "outputs": [
        {
          "output_type": "stream",
          "text": [
            "TensorFlow 1.x selected.\n",
            "DLC loaded in light mode; you cannot use any GUI (labeling, relabeling and standalone GUI)\n"
          ],
          "name": "stdout"
        },
        {
          "output_type": "execute_result",
          "data": {
            "application/vnd.google.colaboratory.intrinsic+json": {
              "type": "string"
            },
            "text/plain": [
              "'2.1.10.4'"
            ]
          },
          "metadata": {
            "tags": []
          },
          "execution_count": 1
        }
      ]
    },
    {
      "cell_type": "markdown",
      "metadata": {
        "id": "n_PabEU10ZIu"
      },
      "source": [
        "## Get the data from repository"
      ]
    },
    {
      "cell_type": "code",
      "metadata": {
        "id": "-2oAptpN0eYw",
        "colab": {
          "base_uri": "https://localhost:8080/"
        },
        "outputId": "64fe3650-3564-481e-8997-fa41858b8e5d"
      },
      "source": [
        "# Clone the github repository\n",
        "!git clone -l -s git://github.com/Bearbrice/maDLC_MM_hands_trained.git\n",
        "#cloned-DLC_MM_hands\n",
        "#%cd cloned-DLC_MM_hands\n",
        "!ls"
      ],
      "execution_count": 3,
      "outputs": [
        {
          "output_type": "stream",
          "text": [
            "Cloning into 'maDLC_MM_hands_trained'...\n",
            "warning: --local is ignored\n",
            "remote: Enumerating objects: 192, done.\u001b[K\n",
            "remote: Counting objects: 100% (192/192), done.\u001b[K\n",
            "remote: Compressing objects: 100% (175/175), done.\u001b[K\n",
            "remote: Total 192 (delta 19), reused 180 (delta 14), pack-reused 0\u001b[K\n",
            "Receiving objects: 100% (192/192), 133.67 MiB | 8.18 MiB/s, done.\n",
            "Resolving deltas: 100% (19/19), done.\n",
            "maDLC_MM_hands_trained\tsample_data\n"
          ],
          "name": "stdout"
        }
      ]
    },
    {
      "cell_type": "code",
      "metadata": {
        "id": "QHwkNdUy1Q5x",
        "colab": {
          "base_uri": "https://localhost:8080/"
        },
        "outputId": "e7ebdb67-766d-4839-bada-7facc2e12b79"
      },
      "source": [
        "#create a path variable that links to the config file:\n",
        "path_config_file = '/content/maDLC_MM_hands_trained/maDLC_MM_hands-Brice-2021-07-08/config.yaml'\n",
        "print(path_config_file)\n",
        "\n",
        "\n",
        "VideoType = 'mp4' #, mp4, MOV, or avi, whatever you uploaded!\n",
        "\n",
        "\n",
        "# No need to edit this, we are going to assume you put videos you want to analyze in the \"videos\" folder, but if this is NOT true, edit below:\n",
        "videofile_path = ['/content/maDLC_MM_hands_trained/Inference_videos'] #Enter the list of videos or folder to analyze.\n",
        "print(videofile_path)\n",
        "\n",
        "# Loading example data set:\n",
        "# deeplabcut.load_demo_data(path_config_file)\n",
        "shuffle=1"
      ],
      "execution_count": 17,
      "outputs": [
        {
          "output_type": "stream",
          "text": [
            "/content/maDLC_MM_hands_trained/maDLC_MM_hands-Brice-2021-07-08/config.yaml\n",
            "['/content/maDLC_MM_hands_trained/Inference_videos']\n"
          ],
          "name": "stdout"
        }
      ]
    },
    {
      "cell_type": "markdown",
      "metadata": {
        "id": "xZygsb2DoEJc"
      },
      "source": [
        "## Start evaluating: for maDLC, this is several steps. \n",
        " - First, we evaluate the pose estimation performance, and then we can cross-valudate optimal inference parameters.\n",
        "\n",
        "- This funtion evaluates a trained model for a specific shuffle/shuffles at a particular state or all the states on the data set (images) and stores the results as .5 and .csv file in a subdirectory under **evaluation-results**\n",
        "\n",
        "- If the scoremaps do not look accurate, don't proceed to tracklet assembly; please consider (1) adding more data, (2) adding more bodyparts!\n",
        "\n",
        "Here is an example of what you'd aim to see before proceeding:\n",
        "\n",
        "![alt text](https://images.squarespace-cdn.com/content/v1/57f6d51c9f74566f55ecf271/1590535809087-X655WY9W1MW1MY1I7DHE/ke17ZwdGBToddI8pDm48kBoswZhKnUtAF7-bTXgw67EUqsxRUqqbr1mOJYKfIPR7LoDQ9mXPOjoJoqy81S2I8N_N4V1vUb5AoIIIbLZhVYxCRW4BPu10St3TBAUQYVKc5tTP1cnANTUwNNPnYFjIp6XbP9N1GxIgAkxvBVqt0UvLpPHYwvNQTwHg8f_Zu8ZF/evaluation.png?format=1000w)"
      ]
    },
    {
      "cell_type": "code",
      "metadata": {
        "id": "nv4zlbrnoEJg",
        "colab": {
          "base_uri": "https://localhost:8080/"
        },
        "outputId": "e11c8979-d7a6-4ff0-a6c4-4df5d1df8710"
      },
      "source": [
        "#let's evaluate first:\n",
        "deeplabcut.evaluate_network(path_config_file,Shuffles=[shuffle], plotting=True,c_engine=False)\n",
        "#plot a few scoremaps:\n",
        "deeplabcut.extract_save_all_maps(path_config_file, shuffle=shuffle, Indices=[0])\n",
        "\n",
        "#%matplotlib notebook\n",
        "#deeplabcut.evaluate_network(path_config_file,plotting=True)\n",
        "\n",
        "# Here you want to see a low pixel error! Of course, it can only be as good as the labeler, \n",
        "#so be sure your labels are good! (And you have trained enough ;)"
      ],
      "execution_count": 7,
      "outputs": [
        {
          "output_type": "stream",
          "text": [
            "Running  DLC_resnet50_maDLC_MM_handsJul8shuffle1_10000  with # of trainingiterations: 10000\n",
            "Initializing ResNet\n",
            "Activating extracting of PAFs\n"
          ],
          "name": "stdout"
        },
        {
          "output_type": "stream",
          "text": [
            "\r0it [00:00, ?it/s]"
          ],
          "name": "stderr"
        },
        {
          "output_type": "stream",
          "text": [
            "Analyzing data...\n"
          ],
          "name": "stdout"
        },
        {
          "output_type": "stream",
          "text": [
            "\r1it [00:08,  8.08s/it]/usr/local/lib/python3.7/dist-packages/deeplabcut/pose_estimation_tensorflow/evaluate_multianimal.py:330: RuntimeWarning: All-NaN slice encountered\n",
            "  distnorm[imageindex] = np.nanmax(lengths)\n",
            "2it [00:08,  5.75s/it]/usr/local/lib/python3.7/dist-packages/deeplabcut/pose_estimation_tensorflow/evaluate_multianimal.py:330: RuntimeWarning: All-NaN slice encountered\n",
            "  distnorm[imageindex] = np.nanmax(lengths)\n",
            "3it [00:08,  4.10s/it]/usr/local/lib/python3.7/dist-packages/deeplabcut/pose_estimation_tensorflow/evaluate_multianimal.py:330: RuntimeWarning: All-NaN slice encountered\n",
            "  distnorm[imageindex] = np.nanmax(lengths)\n",
            "4it [00:08,  2.95s/it]/usr/local/lib/python3.7/dist-packages/deeplabcut/pose_estimation_tensorflow/evaluate_multianimal.py:330: RuntimeWarning: All-NaN slice encountered\n",
            "  distnorm[imageindex] = np.nanmax(lengths)\n",
            "5it [00:09,  2.20s/it]/usr/local/lib/python3.7/dist-packages/deeplabcut/pose_estimation_tensorflow/evaluate_multianimal.py:330: RuntimeWarning: All-NaN slice encountered\n",
            "  distnorm[imageindex] = np.nanmax(lengths)\n",
            "6it [00:09,  1.62s/it]/usr/local/lib/python3.7/dist-packages/deeplabcut/pose_estimation_tensorflow/evaluate_multianimal.py:330: RuntimeWarning: All-NaN slice encountered\n",
            "  distnorm[imageindex] = np.nanmax(lengths)\n",
            "7it [00:09,  1.23s/it]/usr/local/lib/python3.7/dist-packages/deeplabcut/pose_estimation_tensorflow/evaluate_multianimal.py:330: RuntimeWarning: All-NaN slice encountered\n",
            "  distnorm[imageindex] = np.nanmax(lengths)\n",
            "8it [00:10,  1.05it/s]/usr/local/lib/python3.7/dist-packages/deeplabcut/pose_estimation_tensorflow/evaluate_multianimal.py:330: RuntimeWarning: All-NaN slice encountered\n",
            "  distnorm[imageindex] = np.nanmax(lengths)\n",
            "9it [00:10,  1.31it/s]/usr/local/lib/python3.7/dist-packages/deeplabcut/pose_estimation_tensorflow/evaluate_multianimal.py:330: RuntimeWarning: All-NaN slice encountered\n",
            "  distnorm[imageindex] = np.nanmax(lengths)\n",
            "10it [00:10,  1.59it/s]/usr/local/lib/python3.7/dist-packages/deeplabcut/pose_estimation_tensorflow/evaluate_multianimal.py:330: RuntimeWarning: All-NaN slice encountered\n",
            "  distnorm[imageindex] = np.nanmax(lengths)\n",
            "11it [00:11,  1.86it/s]/usr/local/lib/python3.7/dist-packages/deeplabcut/pose_estimation_tensorflow/evaluate_multianimal.py:330: RuntimeWarning: All-NaN slice encountered\n",
            "  distnorm[imageindex] = np.nanmax(lengths)\n",
            "12it [00:11,  2.12it/s]/usr/local/lib/python3.7/dist-packages/deeplabcut/pose_estimation_tensorflow/evaluate_multianimal.py:330: RuntimeWarning: All-NaN slice encountered\n",
            "  distnorm[imageindex] = np.nanmax(lengths)\n",
            "13it [00:11,  2.36it/s]/usr/local/lib/python3.7/dist-packages/deeplabcut/pose_estimation_tensorflow/evaluate_multianimal.py:330: RuntimeWarning: All-NaN slice encountered\n",
            "  distnorm[imageindex] = np.nanmax(lengths)\n",
            "14it [00:12,  2.56it/s]/usr/local/lib/python3.7/dist-packages/deeplabcut/pose_estimation_tensorflow/evaluate_multianimal.py:330: RuntimeWarning: All-NaN slice encountered\n",
            "  distnorm[imageindex] = np.nanmax(lengths)\n",
            "15it [00:12,  2.75it/s]/usr/local/lib/python3.7/dist-packages/deeplabcut/pose_estimation_tensorflow/evaluate_multianimal.py:330: RuntimeWarning: All-NaN slice encountered\n",
            "  distnorm[imageindex] = np.nanmax(lengths)\n",
            "16it [00:12,  2.92it/s]/usr/local/lib/python3.7/dist-packages/deeplabcut/pose_estimation_tensorflow/evaluate_multianimal.py:330: RuntimeWarning: All-NaN slice encountered\n",
            "  distnorm[imageindex] = np.nanmax(lengths)\n",
            "17it [00:13,  3.04it/s]/usr/local/lib/python3.7/dist-packages/deeplabcut/pose_estimation_tensorflow/evaluate_multianimal.py:330: RuntimeWarning: All-NaN slice encountered\n",
            "  distnorm[imageindex] = np.nanmax(lengths)\n",
            "18it [00:13,  3.14it/s]/usr/local/lib/python3.7/dist-packages/deeplabcut/pose_estimation_tensorflow/evaluate_multianimal.py:330: RuntimeWarning: All-NaN slice encountered\n",
            "  distnorm[imageindex] = np.nanmax(lengths)\n",
            "19it [00:13,  3.21it/s]/usr/local/lib/python3.7/dist-packages/deeplabcut/pose_estimation_tensorflow/evaluate_multianimal.py:330: RuntimeWarning: All-NaN slice encountered\n",
            "  distnorm[imageindex] = np.nanmax(lengths)\n",
            "120it [00:42,  2.79it/s]\n"
          ],
          "name": "stderr"
        },
        {
          "output_type": "stream",
          "text": [
            "Results for 10000 training iterations: 95, shuffle 1:\n",
            "Train error: 2.49 pixels. Test error: 4.73 pixels.\n",
            "With pcutoff of 0.6:\n",
            "Train error: 2.49 pixels. Test error: 3.87 pixels.\n",
            "##########################################\n",
            "Average Euclidean distance to GT per individual (in pixels)\n",
            "individuals\n",
            "leftHand     2.661212\n",
            "rightHand    2.507637\n",
            "Average Euclidean distance to GT per bodypart (in pixels)\n",
            "bodyparts\n",
            "indexEnd       2.513913\n",
            "indexStart     2.796565\n",
            "littleEnd      2.514180\n",
            "littleStart    3.152753\n",
            "middleEnd      2.512030\n",
            "middleStart    2.475623\n",
            "ringEnd        2.310887\n",
            "ringStart      2.605412\n",
            "thumbEnd       2.065746\n",
            "thumbStart     2.815365\n",
            "Done and results stored for snapshot:  snapshot-10000\n",
            "/content/maDLC_MM_hands_trained/maDLC_MM_hands-Brice-2021-07-08/evaluation-results/  already exists!\n",
            "/content/maDLC_MM_hands_trained/maDLC_MM_hands-Brice-2021-07-08/evaluation-results/iteration-0/maDLC_MM_handsJul8-trainset95shuffle1  already exists!\n",
            "Initializing ResNet\n",
            "Activating extracting of PAFs\n"
          ],
          "name": "stdout"
        },
        {
          "output_type": "stream",
          "text": [
            "\r0it [00:00, ?it/s]"
          ],
          "name": "stderr"
        },
        {
          "output_type": "stream",
          "text": [
            "Analyzing data...\n"
          ],
          "name": "stdout"
        },
        {
          "output_type": "stream",
          "text": [
            "1it [00:00,  2.53it/s]\n",
            "  0%|          | 0/1 [00:00<?, ?it/s]"
          ],
          "name": "stderr"
        },
        {
          "output_type": "stream",
          "text": [
            "Saving plots...\n"
          ],
          "name": "stdout"
        },
        {
          "output_type": "stream",
          "text": [
            "100%|██████████| 1/1 [00:02<00:00,  2.12s/it]\n"
          ],
          "name": "stderr"
        }
      ]
    },
    {
      "cell_type": "markdown",
      "metadata": {
        "id": "MpHzCI1UWuKK"
      },
      "source": [
        "IF these images, numbers, and maps do not look good, do not proceed. You should increase the diversity and number of frames you label, and re-create a training dataset and re-train! "
      ]
    },
    {
      "cell_type": "markdown",
      "metadata": {
        "id": "bavd4k1VWtfZ"
      },
      "source": [
        "NOTE: this optimized part detection for video analysis. It cannot optimze for tracking, as this is use-case dependent. Please check the docs on how you can set the best parameters and modify/test before \"final\" tracking parameters. You can use COLAB to analyze videos, but afterwards we recommend using the outputs/proejct folder locally to run the final steps! They do not require a GPU. "
      ]
    },
    {
      "cell_type": "code",
      "metadata": {
        "id": "-2av2sjuW6sR",
        "colab": {
          "base_uri": "https://localhost:8080/"
        },
        "outputId": "68cd65af-7705-4a27-8b26-42814e1c3c97"
      },
      "source": [
        "#Cross-validate for Animal Assembly & Tracking:\n",
        "deeplabcut.evaluate_multianimal_crossvalidate(\n",
        "            path_config_file,\n",
        "            Shuffles=[shuffle],\n",
        "            edgewisecondition=True,\n",
        "            leastbpts=1,\n",
        "            init_points=20,\n",
        "            n_iter=100,\n",
        "            target='rpck_train',\n",
        "        )"
      ],
      "execution_count": 8,
      "outputs": [
        {
          "output_type": "stream",
          "text": [
            "/content/maDLC_MM_hands_trained/maDLC_MM_hands-Brice-2021-07-08/evaluation-results/iteration-0/maDLC_MM_handsJul8-trainset95shuffle1  already exists!\n",
            "/content/maDLC_MM_hands_trained/maDLC_MM_hands-Brice-2021-07-08/evaluation-results/iteration-0/maDLC_MM_handsJul8-trainset95shuffle1/DLC_resnet50_maDLC_MM_handsJul8shuffle1_10000-snapshot-10000.h5\n",
            "Computing distances...\n",
            "rpck 0.37520657777041505 rpck train: 0.3938144397370296\n",
            "rmse 3.6271651701913545 miss 12.0 hit 8.0\n",
            "rpck 0.864166138291354 rpck train: 0.9603479170971787\n",
            "rmse 4.70389295490481 miss 1.0 hit 19.0\n",
            "rpck 0.4695619176837278 rpck train: 0.6350334422920736\n",
            "rmse 4.274095522388612 miss 9.666666666666666 hit 10.333333333333334\n",
            "rpck 0.12670527247403626 rpck train: 0.169594979252035\n",
            "rmse 53.75273011626896 miss 16.4 hit 3.6\n",
            "rpck 0.864166138291354 rpck train: 0.9562741869537633\n",
            "rmse 4.70389295490481 miss 1.0 hit 19.0\n",
            "rpck 0.7178504501167947 rpck train: 0.7657251486056164\n",
            "rmse 6.7722762466710416 miss 4.166666666666667 hit 15.833333333333334\n",
            "rpck 0.5173799873625925 rpck train: 0.6301310728319677\n",
            "rmse 4.446169818468904 miss 8.666666666666666 hit 11.333333333333334\n",
            "rpck 0.7819198180783945 rpck train: 0.9250885693537847\n",
            "rmse 6.852996596589417 miss 2.6666666666666665 hit 17.333333333333332\n",
            "rpck 0.8409420818635885 rpck train: 0.9583070885035204\n",
            "rmse 4.233952899203785 miss 1.6666666666666667 hit 18.333333333333332\n",
            "rpck 0.8409420818635885 rpck train: 0.9623618388739996\n",
            "rmse 4.233952899203785 miss 1.6666666666666667 hit 18.333333333333332\n",
            "rpck 0.864166138291354 rpck train: 0.9623618388739996\n",
            "rmse 4.70389295490481 miss 1.0 hit 19.0\n",
            "rpck nan rpck train: nan\n",
            "rmse nan miss nan hit nan\n",
            "rpck 0.3085651823140873 rpck train: 0.39804845039460374\n",
            "rmse 3.8841162029153433 miss 13.333333333333334 hit 6.666666666666667\n",
            "rpck 0.7664541645004982 rpck train: 0.7389107090925565\n",
            "rmse 4.438507890681788 miss 3.1666666666666665 hit 16.833333333333332\n",
            "rpck 0.833669477849461 rpck train: 0.9517201669898074\n",
            "rmse 4.228976235023602 miss 1.8333333333333333 hit 18.166666666666668\n",
            "rpck 0.7240326865761637 rpck train: 0.7703032412092503\n",
            "rmse 4.538370391958778 miss 4.166666666666667 hit 15.833333333333334\n",
            "rpck 0.12670527247403626 rpck train: 0.169594979252035\n",
            "rmse 53.75273011626896 miss 16.4 hit 3.6\n",
            "rpck nan rpck train: nan\n",
            "rmse nan miss nan hit nan\n",
            "rpck 0.8409420818635885 rpck train: 0.9623618388739996\n",
            "rmse 4.233952899203785 miss 1.6666666666666667 hit 18.333333333333332\n",
            "rpck 0.8429875440735598 rpck train: 0.9280459203388592\n",
            "rmse 6.928433802101463 miss 1.3333333333333333 hit 18.666666666666668\n",
            "rpck 0.47469564119147084 rpck train: 0.632756348290174\n",
            "rmse 3.644590052983269 miss 9.75 hit 10.25\n",
            "rpck 0.3652923455523019 rpck train: 0.43875553864940886\n",
            "rmse 4.302407320215908 miss 12.0 hit 8.0\n",
            "rpck 0.3652923455523019 rpck train: 0.46144600563864463\n",
            "rmse 4.302407320215908 miss 12.0 hit 8.0\n",
            "rpck 0.37520657777041505 rpck train: 0.3881449534099187\n",
            "rmse 3.6271651701913545 miss 12.0 hit 8.0\n",
            "rpck 0.7408848933869097 rpck train: 0.8458497538379904\n",
            "rmse 4.2626039561873155 miss 3.8333333333333335 hit 16.166666666666668\n",
            "rpck 0.8409420818635885 rpck train: 0.9623618388739996\n",
            "rmse 4.233952899203785 miss 1.6666666666666667 hit 18.333333333333332\n",
            "rpck 0.8409420818635885 rpck train: 0.9623618388739996\n",
            "rmse 4.233952899203785 miss 1.6666666666666667 hit 18.333333333333332\n",
            "rpck 0.7240326865761637 rpck train: 0.7703032412092503\n",
            "rmse 4.538370391958778 miss 4.166666666666667 hit 15.833333333333334\n",
            "rpck 0.31037451235196667 rpck train: 0.5460382545859108\n",
            "rmse 3.449316489275962 miss 13.333333333333334 hit 6.666666666666667\n",
            "rpck 0.7881020545377635 rpck train: 0.8492969841508085\n",
            "rmse 4.6190907418771525 miss 2.6666666666666665 hit 17.333333333333332\n",
            "rpck 0.8409420818635885 rpck train: 0.9623618388739996\n",
            "rmse 4.233952899203785 miss 1.6666666666666667 hit 18.333333333333332\n",
            "rpck 0.37520657777041505 rpck train: 0.39783587306386026\n",
            "rmse 3.6271651701913545 miss 12.0 hit 8.0\n",
            "rpck 0.765553533830326 rpck train: 0.7896087456843575\n",
            "rmse 4.638905266430517 miss 3.1666666666666665 hit 16.833333333333332\n",
            "rpck 0.7881020545377635 rpck train: 0.8440846644952799\n",
            "rmse 4.6190907418771525 miss 2.6666666666666665 hit 17.333333333333332\n",
            "rpck 0.47469564119147084 rpck train: 0.632756348290174\n",
            "rmse 3.644590052983269 miss 9.75 hit 10.25\n",
            "rpck 0.7408848933869097 rpck train: 0.80098711840983\n",
            "rmse 4.2626039561873155 miss 3.8333333333333335 hit 16.166666666666668\n",
            "rpck 0.7881020545377635 rpck train: 0.8128492797438724\n",
            "rmse 4.6190907418771525 miss 2.6666666666666665 hit 17.333333333333332\n",
            "rpck 0.17527451328436464 rpck train: 0.23848355431713844\n",
            "rmse 24.086274604552727 miss 15.5 hit 4.5\n",
            "rpck 0.30260349274572207 rpck train: 0.4236061446180454\n",
            "rmse 3.6908979297814075 miss 13.5 hit 6.5\n",
            "rpck 0.5440088145149024 rpck train: 0.61804690306484\n",
            "rmse 4.282974726947862 miss 8.0 hit 12.0\n",
            "rpck 0.8409420818635885 rpck train: 0.9623618388739996\n",
            "rmse 4.233952899203785 miss 1.6666666666666667 hit 18.333333333333332\n",
            "rpck 0.169485317658751 rpck train: 0.1883481774048158\n",
            "rmse 23.38834934907503 miss 16.0 hit 4.0\n",
            "rpck nan rpck train: 0.333735026776278\n",
            "rmse nan miss nan hit nan\n",
            "rpck 0.20607983492404633 rpck train: 0.25185423604676554\n",
            "rmse 24.149810758048734 miss 14.833333333333334 hit 5.166666666666667\n",
            "rpck 0.6136482487135803 rpck train: 0.6903344456458804\n",
            "rmse 4.14533570966691 miss 6.666666666666667 hit 13.333333333333334\n",
            "rpck 0.3652923455523019 rpck train: 0.4843441511398957\n",
            "rmse 4.302407320215908 miss 12.0 hit 8.0\n",
            "rpck 0.7408848933869097 rpck train: 0.7862541885885379\n",
            "rmse 4.2626039561873155 miss 3.8333333333333335 hit 16.166666666666668\n",
            "rpck 0.7881020545377635 rpck train: 0.8677530023220608\n",
            "rmse 4.6190907418771525 miss 2.6666666666666665 hit 17.333333333333332\n",
            "rpck 0.7408848933869097 rpck train: 0.9229288528834904\n",
            "rmse 4.2626039561873155 miss 3.8333333333333335 hit 16.166666666666668\n",
            "rpck 0.864166138291354 rpck train: 0.9613615343109854\n",
            "rmse 4.70389295490481 miss 1.0 hit 19.0\n",
            "rpck 0.7512790776489692 rpck train: 0.6682591397376444\n",
            "rmse 4.013867471239709 miss 3.75 hit 16.25\n",
            "rpck 0.6155765031229911 rpck train: 0.7004951024340048\n",
            "rmse 4.5061415576230175 miss 6.5 hit 13.5\n",
            "rpck 0.8409420818635885 rpck train: 0.9623618388739996\n",
            "rmse 4.233952899203785 miss 1.6666666666666667 hit 18.333333333333332\n",
            "rpck 0.8409420818635885 rpck train: 0.9623618388739996\n",
            "rmse 4.233952899203785 miss 1.6666666666666667 hit 18.333333333333332\n",
            "rpck 0.833669477849461 rpck train: 0.9573228493635282\n",
            "rmse 4.228976235023602 miss 1.8333333333333333 hit 18.166666666666668\n",
            "rpck 0.765553533830326 rpck train: 0.7835360497603946\n",
            "rmse 4.638905266430517 miss 3.1666666666666665 hit 16.833333333333332\n",
            "rpck 0.864166138291354 rpck train: 0.9542879674452042\n",
            "rmse 4.70389295490481 miss 1.0 hit 19.0\n",
            "rpck nan rpck train: 0.333735026776278\n",
            "rmse nan miss nan hit nan\n",
            "rpck 0.864166138291354 rpck train: 0.9613615343109854\n",
            "rmse 4.70389295490481 miss 1.0 hit 19.0\n",
            "rpck 0.37520657777041505 rpck train: 0.465092518535001\n",
            "rmse 3.6271651701913545 miss 12.0 hit 8.0\n",
            "rpck 0.5440088145149024 rpck train: 0.594457417837564\n",
            "rmse 4.282974726947862 miss 8.0 hit 12.0\n",
            "rpck 0.8568935342772265 rpck train: 0.9542879674452042\n",
            "rmse 4.698916290724626 miss 1.1666666666666667 hit 18.833333333333332\n",
            "rpck 0.30260349274572207 rpck train: 0.47193244293000874\n",
            "rmse 3.6908979297814075 miss 13.5 hit 6.5\n",
            "rpck 0.8409420818635885 rpck train: 0.9623618388739996\n",
            "rmse 4.233952899203785 miss 1.6666666666666667 hit 18.333333333333332\n",
            "rpck nan rpck train: 0.3371932933315971\n",
            "rmse nan miss nan hit nan\n",
            "rpck 0.27703213458770903 rpck train: 0.3578708181919878\n",
            "rmse 4.115848265688769 miss 14.0 hit 6.0\n",
            "rpck 0.8409420818635885 rpck train: 0.9623618388739996\n",
            "rmse 4.233952899203785 miss 1.6666666666666667 hit 18.333333333333332\n",
            "rpck 0.8409420818635885 rpck train: 0.9623618388739996\n",
            "rmse 4.233952899203785 miss 1.6666666666666667 hit 18.333333333333332\n",
            "rpck 0.37520657777041505 rpck train: 0.394868815651264\n",
            "rmse 3.6271651701913545 miss 12.0 hit 8.0\n",
            "rpck 0.37520657777041505 rpck train: 0.38209634694129785\n",
            "rmse 3.6271651701913545 miss 12.0 hit 8.0\n",
            "rpck 0.8259457241051633 rpck train: 0.9385505848721847\n",
            "rmse 4.224587891688174 miss 2.0 hit 18.0\n",
            "rpck 0.864166138291354 rpck train: 0.9562741869537633\n",
            "rmse 4.70389295490481 miss 1.0 hit 19.0\n",
            "rpck 0.8568935342772265 rpck train: 0.9497464814846002\n",
            "rmse 4.698916290724626 miss 1.1666666666666667 hit 18.833333333333332\n",
            "rpck 0.37520657777041505 rpck train: 0.41383225279618074\n",
            "rmse 3.6271651701913545 miss 12.0 hit 8.0\n",
            "rpck 0.7865935935452297 rpck train: 0.7246320272827443\n",
            "rmse 4.052579746324028 miss 3.0 hit 17.0\n",
            "rpck 0.19085177108858933 rpck train: 0.2261249856305937\n",
            "rmse 13.617743249587663 miss 15.5 hit 4.5\n",
            "rpck 0.8409420818635885 rpck train: 0.9623618388739996\n",
            "rmse 4.233952899203785 miss 1.6666666666666667 hit 18.333333333333332\n",
            "rpck 0.37520657777041505 rpck train: 0.3821102462532531\n",
            "rmse 3.6271651701913545 miss 12.0 hit 8.0\n",
            "rpck 0.7770584248284866 rpck train: 0.7456746562642494\n",
            "rmse 4.409945859637037 miss 3.0 hit 17.0\n",
            "rpck nan rpck train: nan\n",
            "rmse nan miss nan hit nan\n",
            "rpck 0.8047622718127547 rpck train: 0.8218367172029843\n",
            "rmse 6.914403007797856 miss 2.1666666666666665 hit 17.833333333333332\n",
            "rpck 0.7819198180783945 rpck train: 0.7840807263444013\n",
            "rmse 6.852996596589417 miss 2.6666666666666665 hit 17.333333333333332\n",
            "rpck 0.8409420818635885 rpck train: 0.9623618388739996\n",
            "rmse 4.233952899203785 miss 1.6666666666666667 hit 18.333333333333332\n",
            "rpck 0.8259457241051633 rpck train: 0.9314233450673087\n",
            "rmse 4.224587891688174 miss 2.0 hit 18.0\n",
            "rpck 0.7968761849411057 rpck train: 0.808951906935023\n",
            "rmse 4.594778262581532 miss 2.5 hit 17.5\n",
            "rpck 0.864166138291354 rpck train: 0.9623618388739996\n",
            "rmse 4.70389295490481 miss 1.0 hit 19.0\n",
            "rpck 0.5065275524529382 rpck train: 0.657189477544671\n",
            "rmse 3.9720479207553985 miss 9.0 hit 11.0\n",
            "rpck 0.7881020545377635 rpck train: 0.8677530023220608\n",
            "rmse 4.6190907418771525 miss 2.6666666666666665 hit 17.333333333333332\n",
            "rpck 0.8409420818635885 rpck train: 0.9613615343109854\n",
            "rmse 4.233952899203785 miss 1.6666666666666667 hit 18.333333333333332\n",
            "rpck 0.8109445082721236 rpck train: 0.8780964396510303\n",
            "rmse 4.680497153085592 miss 2.1666666666666665 hit 17.833333333333332\n",
            "rpck 0.864166138291354 rpck train: 0.9623618388739996\n",
            "rmse 4.70389295490481 miss 1.0 hit 19.0\n",
            "rpck 0.8409420818635885 rpck train: 0.9623618388739996\n",
            "rmse 4.233952899203785 miss 1.6666666666666667 hit 18.333333333333332\n",
            "rpck 0.37520657777041505 rpck train: 0.41383225279618074\n",
            "rmse 3.6271651701913545 miss 12.0 hit 8.0\n",
            "rpck 0.4511246416103119 rpck train: 0.6313980759786161\n",
            "rmse 3.981105459669746 miss 10.2 hit 9.8\n",
            "rpck 0.590365058286989 rpck train: 0.7103132959067344\n",
            "rmse 4.055631007914972 miss 7.2 hit 12.8\n",
            "rpck 0.864166138291354 rpck train: 0.9613615343109854\n",
            "rmse 4.70389295490481 miss 1.0 hit 19.0\n",
            "rpck 0.8409420818635885 rpck train: 0.9623618388739996\n",
            "rmse 4.233952899203785 miss 1.6666666666666667 hit 18.333333333333332\n",
            "rpck 0.8409420818635885 rpck train: 0.9623618388739996\n",
            "rmse 4.233952899203785 miss 1.6666666666666667 hit 18.333333333333332\n",
            "rpck 0.11713531866751989 rpck train: 0.16311970818309213\n",
            "rmse 30.155260176913107 miss 17.0 hit 3.0\n",
            "rpck 0.8568935342772265 rpck train: 0.9558208155066656\n",
            "rmse 4.698916290724626 miss 1.1666666666666667 hit 18.833333333333332\n",
            "rpck 0.8409420818635885 rpck train: 0.9623618388739996\n",
            "rmse 4.233952899203785 miss 1.6666666666666667 hit 18.333333333333332\n",
            "rpck 0.8259457241051633 rpck train: 0.952717871540454\n",
            "rmse 4.224587891688174 miss 2.0 hit 18.0\n",
            "rpck 0.8491697805329288 rpck train: 0.9406614851921562\n",
            "rmse 4.694527947389199 miss 1.3333333333333333 hit 18.666666666666668\n",
            "rpck 0.5173799873625925 rpck train: 0.6368401875833984\n",
            "rmse 4.446169818468904 miss 8.666666666666666 hit 11.333333333333334\n",
            "rpck nan rpck train: nan\n",
            "rmse nan miss nan hit nan\n",
            "rpck 0.6136482487135803 rpck train: 0.6994538306539567\n",
            "rmse 4.14533570966691 miss 6.666666666666667 hit 13.333333333333334\n",
            "rpck nan rpck train: nan\n",
            "rmse nan miss nan hit nan\n",
            "rpck 0.864166138291354 rpck train: 0.9562741869537633\n",
            "rmse 4.70389295490481 miss 1.0 hit 19.0\n",
            "rpck 0.2627704849904713 rpck train: 0.28450950666429153\n",
            "rmse 23.932349032112768 miss 13.666666666666666 hit 6.333333333333333\n",
            "rpck 0.8409420818635885 rpck train: 0.9623618388739996\n",
            "rmse 4.233952899203785 miss 1.6666666666666667 hit 18.333333333333332\n",
            "rpck 0.28523587479463525 rpck train: 0.3725977028972311\n",
            "rmse 3.9072067036940172 miss 13.833333333333334 hit 6.166666666666667\n",
            "rpck 0.7770584248284866 rpck train: 0.7287328325956937\n",
            "rmse 4.409945859637037 miss 3.0 hit 17.0\n",
            "rpck 0.7408848933869097 rpck train: 0.9035770626168769\n",
            "rmse 4.2626039561873155 miss 3.8333333333333335 hit 16.166666666666668\n",
            "rpck 0.8409420818635885 rpck train: 0.9623618388739996\n",
            "rmse 4.233952899203785 miss 1.6666666666666667 hit 18.333333333333332\n",
            "rpck 0.37520657777041505 rpck train: 0.4147629095292489\n",
            "rmse 3.6271651701913545 miss 12.0 hit 8.0\n",
            "rpck 0.49514412951926445 rpck train: 0.6320500628300991\n",
            "rmse 3.826730710267111 miss 9.25 hit 10.75\n",
            "rpck 0.5440088145149024 rpck train: 0.6123747074341925\n",
            "rmse 4.282974726947862 miss 8.0 hit 12.0\n",
            "rpck 0.37520657777041505 rpck train: 0.44316075437351715\n",
            "rmse 3.6271651701913545 miss 12.0 hit 8.0\n",
            "rpck 0.37520657777041505 rpck train: 0.3858258435992524\n",
            "rmse 3.6271651701913545 miss 12.0 hit 8.0\n",
            "rpck 0.47469564119147084 rpck train: 0.632756348290174\n",
            "rmse 3.644590052983269 miss 9.75 hit 10.25\n",
            "/content/maDLC_MM_hands_trained/maDLC_MM_hands-Brice-2021-07-08/evaluation-results/iteration-0/maDLC_MM_handsJul8-trainset95shuffle1/DLC_resnet50_maDLC_MM_handsJul8shuffle1_10000-snapshot-10000.h5\n",
            "Saving optimal inference parameters...\n",
            "   train_iter  train_frac  shuffle  rmse_train  hits_train  misses_train  falsepos_train  ndetects_train  pck_train  rpck_train  rmse_test  hits_test  misses_test  falsepos_test  ndetects_test  pck_test  rpck_test\n",
            "0     10000.0        95.0      1.0    2.765269        20.0           0.0             0.0             2.0   0.968947    0.864074   4.233953  18.333333     1.666667            0.0       1.833333  0.716667   0.683693\n"
          ],
          "name": "stdout"
        }
      ]
    },
    {
      "cell_type": "markdown",
      "metadata": {
        "id": "oMVJUQfcXRWS"
      },
      "source": [
        "## Start Analyzing videos: \n",
        "This function analyzes the new video. The user can choose the best model from the evaluation results and specify the correct snapshot index for the variable **snapshotindex** in the **config.yaml** file. Otherwise, by default the most recent snapshot is used to analyse the video.\n",
        "\n",
        "The results are stored in hd5 file in the same directory where the video resides. "
      ]
    },
    {
      "cell_type": "code",
      "metadata": {
        "id": "CA5jQRzNXRjx",
        "colab": {
          "base_uri": "https://localhost:8080/"
        },
        "outputId": "77e7f4ad-0970-4691-cf53-5a54456de18a"
      },
      "source": [
        "print(\"Start Analyzing my video(s)!\")\n",
        "scorername = deeplabcut.analyze_videos(path_config_file, \n",
        "                                       videofile_path, \n",
        "                                       shuffle=shuffle, \n",
        "                                       videotype=VideoType, \n",
        "                                       c_engine=False)"
      ],
      "execution_count": 25,
      "outputs": [
        {
          "output_type": "stream",
          "text": [
            "Start Analyzing my video(s)!\n",
            "Using snapshot-10000 for model /content/maDLC_MM_hands_trained/maDLC_MM_hands-Brice-2021-07-08/dlc-models/iteration-0/maDLC_MM_handsJul8-trainset95shuffle1\n",
            "Initializing ResNet\n",
            "Activating extracting of PAFs\n",
            "Analyzing all the videos in the directory...\n",
            "Starting to analyze %  /content/maDLC_MM_hands_trained/Inference_videos/Pilot05-2_CUT.mp4\n",
            "/content/maDLC_MM_hands_trained/Inference_videos  already exists!\n",
            "Video already analyzed! /content/maDLC_MM_hands_trained/Inference_videos/Pilot05-2_CUTDLC_resnet50_maDLC_MM_handsJul8shuffle1_10000.h5\n",
            "Starting to analyze %  /content/maDLC_MM_hands_trained/Inference_videos/Pilot03-2.mp4\n",
            "/content/maDLC_MM_hands_trained/Inference_videos  already exists!\n",
            "Video already analyzed! /content/maDLC_MM_hands_trained/Inference_videos/Pilot03-2DLC_resnet50_maDLC_MM_handsJul8shuffle1_10000.h5\n",
            "Starting to analyze %  /content/maDLC_MM_hands_trained/Inference_videos/Pilot06-2_CUT.mp4\n",
            "/content/maDLC_MM_hands_trained/Inference_videos  already exists!\n",
            "Video already analyzed! /content/maDLC_MM_hands_trained/Inference_videos/Pilot06-2_CUTDLC_resnet50_maDLC_MM_handsJul8shuffle1_10000.h5\n",
            "Starting to analyze %  /content/maDLC_MM_hands_trained/Inference_videos/Video_Pers2_CUT.mp4\n",
            "/content/maDLC_MM_hands_trained/Inference_videos  already exists!\n",
            "Video already analyzed! /content/maDLC_MM_hands_trained/Inference_videos/Video_Pers2_CUTDLC_resnet50_maDLC_MM_handsJul8shuffle1_10000.h5\n",
            "The videos are analyzed. Time to assemble animals and track 'em... \n",
            " Call 'create_video_with_all_detections' to check multi-animal detection quality before tracking.\n",
            "If the tracking is not satisfactory for some videos, consider expanding the training set. You can use the function 'extract_outlier_frames' to extract a few representative outlier frames.\n"
          ],
          "name": "stdout"
        }
      ]
    },
    {
      "cell_type": "markdown",
      "metadata": {
        "id": "pxR05ic5Xv_m"
      },
      "source": [
        "## The steps below work on a single video at a time.\n",
        "- Here you can create a video to check the pose estimation detection quality! If this looks good, proceed to tracklet conversions with the interactive GUI (ouside of COLAB for now), or if you know your optimal parameters, you can automate this and run the additional steps shown in a few cells down."
      ]
    },
    {
      "cell_type": "code",
      "metadata": {
        "id": "jmRV8rVQXx00",
        "colab": {
          "base_uri": "https://localhost:8080/"
        },
        "outputId": "29465d70-43da-4b2e-f6cf-1af077e7718c"
      },
      "source": [
        "##### PROTIP: #####\n",
        "## look at the output video; if the pose estimation (i.e. key points)\n",
        "##  don't look good, don't proceed with tracking - add more data to your training set and re-train!\n",
        "\n",
        "#let's check a specific video (PLEASE EDIT VIDEO PATH):\n",
        "Specific_videofile = '/content/maDLC_MM_hands_trained/Inference_videos/Video_Pers2_CUT.mp4'\n",
        "\n",
        "# from deeplabcut.utils import auxiliaryfunctions\n",
        "# cfg = auxiliaryfunctions.read_config(path_config_file)\n",
        "# #cfg=95\n",
        "# scorername, DLCscorerlegacy = auxiliaryfunctions.GetScorerName(cfg, shuffle, trainFraction=0)\n",
        "# print(\"scorername is: \"+scorername)\n",
        "# print(cfg)\n",
        "\n",
        "deeplabcut.create_video_with_all_detections(path_config_file, [Specific_videofile], scorername)\n",
        "\n",
        "#Again, if this does not look perfect, do not proceed! Retrain with more diverse data.\n",
        "\n",
        "\n",
        "\n",
        "#from deeplabcut.utils import auxiliaryfunctions\n",
        "#scorername, DLCscorerlegacy = auxiliaryfunctions.GetScorerName(path_config_file, shuffle, trainFraction=0)\n",
        "#print(\"scorename is: \"+scorername)\n",
        "\n",
        "#deeplabcut.create_video_with_all_detections(path_config_file, [Specific_videofile], scorername)\n",
        "\n",
        "#Again, if this does not look perfect, do not proceed! Retrain with more diverse data."
      ],
      "execution_count": 43,
      "outputs": [
        {
          "output_type": "stream",
          "text": [
            "  7%|▋         | 14/194 [00:00<00:01, 134.93it/s]"
          ],
          "name": "stderr"
        },
        {
          "output_type": "stream",
          "text": [
            "Creating labeled video for  Video_Pers2_CUT\n"
          ],
          "name": "stdout"
        },
        {
          "output_type": "stream",
          "text": [
            "100%|██████████| 194/194 [00:01<00:00, 152.17it/s]\n"
          ],
          "name": "stderr"
        }
      ]
    },
    {
      "cell_type": "markdown",
      "metadata": {
        "id": "nvlvtbiKX--V"
      },
      "source": [
        "## Convert Detections to Tracklets:\n",
        "\n",
        "- The idea is that you test and adapt hyperparameters for tracking outside of COLAB. Once you have good parameters, this can be automated on future videos. Shown here!\n",
        "\n",
        "- I.e., instead of always doing an interactive parameter setting step, you can simply convert tracklets to .h5 files using these parameters (see GitHub for more info)."
      ]
    },
    {
      "cell_type": "code",
      "metadata": {
        "id": "SU0HzKyLX_db",
        "colab": {
          "base_uri": "https://localhost:8080/"
        },
        "outputId": "e78c48ae-0506-4b14-d3ee-8ed9a9fc81c9"
      },
      "source": [
        "#assemble tracklets:\n",
        "#read the docs: which tracker to test out (you can run this many times to try multiple):\n",
        "tracktype= 'box' #box, skeleton, ellipse\n",
        "\n",
        "deeplabcut.convert_detections2tracklets(path_config_file, Specific_videofile, videotype=VideoType,\n",
        "                                                    shuffle=shuffle, track_method=tracktype, overwrite=True)"
      ],
      "execution_count": 44,
      "outputs": [
        {
          "output_type": "stream",
          "text": [
            "32it [00:00, 310.74it/s]"
          ],
          "name": "stderr"
        },
        {
          "output_type": "stream",
          "text": [
            "Using snapshot-10000 for model /content/maDLC_MM_hands_trained/maDLC_MM_hands-Brice-2021-07-08/dlc-models/iteration-0/maDLC_MM_handsJul8-trainset95shuffle1\n",
            "Processing...  /content/maDLC_MM_hands_trained/Inference_videos/Video_Pers2_CUT.mp4\n",
            "/content/maDLC_MM_hands_trained/Inference_videos  already exists!\n",
            "Analyzing /content/maDLC_MM_hands_trained/Inference_videos/Video_Pers2_CUTDLC_resnet50_maDLC_MM_handsJul8shuffle1_10000.h5\n"
          ],
          "name": "stdout"
        },
        {
          "output_type": "stream",
          "text": [
            "194it [00:00, 290.83it/s]"
          ],
          "name": "stderr"
        },
        {
          "output_type": "stream",
          "text": [
            "The tracklets were created. Now you can 'refine_tracklets'.\n"
          ],
          "name": "stdout"
        },
        {
          "output_type": "stream",
          "text": [
            "\n"
          ],
          "name": "stderr"
        }
      ]
    },
    {
      "cell_type": "markdown",
      "metadata": {
        "id": "Zmq9N3SlYGJM"
      },
      "source": [
        "## Now you should manually verify the tracks and correct them if needed! [currently only working outside of COLAB]"
      ]
    },
    {
      "cell_type": "code",
      "metadata": {
        "id": "aEkjS8aZYHQB"
      },
      "source": [
        "''' here is the code you would need:\n",
        "os.environ[\"DLClight\"]=\"False\"\n",
        "import deeplabcut\n",
        "\n",
        "#ATTENTION:\n",
        "picklefile = '/...._10000_bx.pickle' #(see your video folder for path i.e. right click and say copy path!!!)\n",
        "vid ='/yourVIDEO.mp4'\n",
        "#if you want occlusions filled in, tell us how many frames to fill in, i.e. if there is a gap in data:\n",
        "framestofill = 0. #note, put \"0\" if you want ALL gaps filled!\n",
        "\n",
        "%matplotlib inline\n",
        "\n",
        "from deeplabcut import refine_tracklets\n",
        "TrackletManager, TrackletVisualizer = refine_tracklets(path_config_file, \n",
        "                                                          picklefile, \n",
        "                                                          Specific_videofile, \n",
        "                                                          min_swap_frac=0,\n",
        "                                                          min_tracklet_frac=0, \n",
        "                                                          max_gap=framestofill)\n",
        "'''"
      ],
      "execution_count": null,
      "outputs": []
    },
    {
      "cell_type": "markdown",
      "metadata": {
        "id": "QU_lF2vwYJqR"
      },
      "source": [
        "## Let's assume you have great tracking parameters, and you want to analyze a full set of videos:"
      ]
    },
    {
      "cell_type": "code",
      "metadata": {
        "id": "9p0cNELbYMvh",
        "colab": {
          "base_uri": "https://localhost:8080/"
        },
        "outputId": "3d97f042-d995-459c-c709-4c3518cc84dc"
      },
      "source": [
        "#^^^^^^^^^You do NOT neeed to run if you hit \"save\" in the GUI ^^^^^^^^^^\n",
        "#this is just if you want to run the same parameters over a set of videos!\n",
        "\n",
        "# You need to point to your pickle file, please \"copy path\" from the folder to the left (right click, copy path)\n",
        "picklefile = '/content/maDLC_MM_hands_trained/Inference_videos/Video_Pers2_CUTDLC_resnet50_maDLC_MM_handsJul8shuffle1_10000_bx.pickle' #(see your video folder for path i.e. right click and say copy path!!!)\n",
        "vid ='/content/maDLC_MM_hands_trained/Inference_videos/Video_Pers2_CUT.mp4'\n",
        "\n",
        "deeplabcut.convert_raw_tracks_to_h5(path_config_file, picklefile)\n",
        "deeplabcut.filterpredictions(path_config_file, \n",
        "                                 videofile_path, \n",
        "                                 videotype=VideoType, \n",
        "                                 track_method = tracktype)"
      ],
      "execution_count": 45,
      "outputs": [
        {
          "output_type": "stream",
          "text": [
            "100%|██████████| 2/2 [00:00<00:00, 547.45it/s]\n"
          ],
          "name": "stderr"
        },
        {
          "output_type": "stream",
          "text": [
            "Analyzing all the videos in the directory...\n",
            "Filtering with median model /content/maDLC_MM_hands_trained/Inference_videos/Pilot05-2_CUT.mp4\n",
            "Data from Pilot05-2_CUT were already filtered. Skipping...\n",
            "Filtering with median model /content/maDLC_MM_hands_trained/Inference_videos/Pilot03-2.mp4\n",
            "Data from Pilot03-2 were already filtered. Skipping...\n",
            "Filtering with median model /content/maDLC_MM_hands_trained/Inference_videos/Pilot06-2_CUT.mp4\n",
            "Data from Pilot06-2_CUT were already filtered. Skipping...\n",
            "Filtering with median model /content/maDLC_MM_hands_trained/Inference_videos/Video_Pers2_CUT.mp4\n",
            "Saving filtered csv poses!\n"
          ],
          "name": "stdout"
        }
      ]
    },
    {
      "cell_type": "markdown",
      "metadata": {
        "id": "jZyoRgEpYTYe"
      },
      "source": [
        "## Create plots of your trajectories:"
      ]
    },
    {
      "cell_type": "code",
      "metadata": {
        "id": "Q6fqdcsmYT4x",
        "colab": {
          "base_uri": "https://localhost:8080/"
        },
        "outputId": "50405e9a-5d21-4240-992c-bfc391e42b09"
      },
      "source": [
        "deeplabcut.plot_trajectories(path_config_file,videofile_path, videotype=VideoType, track_method=tracktype)"
      ],
      "execution_count": 46,
      "outputs": [
        {
          "output_type": "stream",
          "text": [
            "Analyzing all the videos in the directory...\n",
            "Loading  /content/maDLC_MM_hands_trained/Inference_videos/Pilot03-2.mp4 and data.\n",
            "/content/maDLC_MM_hands_trained/Inference_videos/plot-poses/Pilot03-2  already exists!\n",
            "Loading  /content/maDLC_MM_hands_trained/Inference_videos/Pilot05-2_CUT.mp4 and data.\n",
            "/content/maDLC_MM_hands_trained/Inference_videos/plot-poses/Pilot05-2_CUT  already exists!\n",
            "Loading  /content/maDLC_MM_hands_trained/Inference_videos/Video_Pers2_CUT.mp4 and data.\n",
            "Loading  /content/maDLC_MM_hands_trained/Inference_videos/Pilot06-2_CUT.mp4 and data.\n",
            "/content/maDLC_MM_hands_trained/Inference_videos/plot-poses/Pilot06-2_CUT  already exists!\n",
            "Plots created! Please check the directory \"plot-poses\" within the video directory\n"
          ],
          "name": "stdout"
        }
      ]
    },
    {
      "cell_type": "markdown",
      "metadata": {
        "id": "KvmzI1XgYUYf"
      },
      "source": [
        "Now you can look at the plot-poses file and check the \"plot-likelihood.png\" might want to change the \"p-cutoff\" in the config.yaml file so that you have only high confidnece points plotted in the video. i.e. ~0.8 or 0.9. The current default is 0.4. "
      ]
    },
    {
      "cell_type": "markdown",
      "metadata": {
        "id": "0DEgRTH4Yf6s"
      },
      "source": [
        "## Create labeled video:\n",
        "This funtion is for visualiztion purpose and can be used to create a video in .mp4 format with labels predicted by the network. This video is saved in the same directory where the original video resides. "
      ]
    },
    {
      "cell_type": "code",
      "metadata": {
        "id": "UFm7rnMUYU4q",
        "colab": {
          "base_uri": "https://localhost:8080/"
        },
        "outputId": "4df41443-1241-48e0-f676-e7ef3b8d0b6f"
      },
      "source": [
        "deeplabcut.create_labeled_video(path_config_file,\n",
        "                                videofile_path, \n",
        "                                shuffle=shuffle, \n",
        "                                draw_skeleton=True, \n",
        "                                videotype=VideoType, \n",
        "                                save_frames=False,\n",
        "                                filtered=True, \n",
        "                                track_method = tracktype)"
      ],
      "execution_count": 47,
      "outputs": [
        {
          "output_type": "stream",
          "text": [
            "Analyzing all the videos in the directory...\n",
            "/content/maDLC_MM_hands_trained/Inference_videos  already exists!\n",
            "/content/maDLC_MM_hands_trained/Inference_videos  already exists!\n",
            "Starting to process video: /content/maDLC_MM_hands_trained/Inference_videos/Pilot03-2.mp4\n",
            "Starting to process video: /content/maDLC_MM_hands_trained/Inference_videos/Video_Pers2_CUT.mp4\n",
            "Loading /content/maDLC_MM_hands_trained/Inference_videos/Video_Pers2_CUT.mp4 and data.\n",
            "Loading /content/maDLC_MM_hands_trained/Inference_videos/Pilot03-2.mp4 and data.\n",
            "Labeled video already created. Skipping...\n",
            "Duration of video [s]: 6.47, recorded with 30.0 fps!\n",
            "Overall # of frames: 194 with cropped frame dimensions: 852 480\n",
            "/content/maDLC_MM_hands_trained/Inference_videos  already exists!\n",
            "Generating frames and creating video.\n",
            "Starting to process video: /content/maDLC_MM_hands_trained/Inference_videos/Pilot05-2_CUT.mp4\n",
            "Loading /content/maDLC_MM_hands_trained/Inference_videos/Pilot05-2_CUT.mp4 and data.\n"
          ],
          "name": "stdout"
        },
        {
          "output_type": "stream",
          "text": [
            "\r  0%|          | 0/194 [00:00<?, ?it/s]"
          ],
          "name": "stderr"
        },
        {
          "output_type": "stream",
          "text": [
            "Labeled video already created. Skipping...\n",
            "/content/maDLC_MM_hands_trained/Inference_videos  already exists!\n",
            "Starting to process video: /content/maDLC_MM_hands_trained/Inference_videos/Pilot06-2_CUT.mp4\n",
            "Loading /content/maDLC_MM_hands_trained/Inference_videos/Pilot06-2_CUT.mp4 and data.\n",
            "Labeled video already created. Skipping...\n"
          ],
          "name": "stdout"
        },
        {
          "output_type": "stream",
          "text": [
            "100%|██████████| 194/194 [00:01<00:00, 104.35it/s]\n"
          ],
          "name": "stderr"
        }
      ]
    },
    {
      "cell_type": "markdown",
      "metadata": {
        "id": "OVFLSKKfoEJk"
      },
      "source": [
        "## (OLD) Start Analyzing videos: \n",
        "This function analyzes the new video. The user can choose the best model from the evaluation results and specify the correct snapshot index for the variable **snapshotindex** in the **config.yaml** file. Otherwise, by default the most recent snapshot is used to analyse the video.\n",
        "\n",
        "The results are stored in hd5 file in the same directory where the video resides. "
      ]
    },
    {
      "cell_type": "code",
      "metadata": {
        "id": "Jng7G8iyJ2Pe"
      },
      "source": [
        "#create a path variable that links to the config file:\n",
        "videofile_path = ['/content/Pilot5/Pilot05-2_CUT.mp4']\n",
        "print(videofile_path)"
      ],
      "execution_count": null,
      "outputs": []
    },
    {
      "cell_type": "code",
      "metadata": {
        "id": "Y_LZiS_0oEJl"
      },
      "source": [
        "deeplabcut.analyze_videos(path_config_file, videofile_path, save_as_csv=True)"
      ],
      "execution_count": null,
      "outputs": []
    },
    {
      "cell_type": "markdown",
      "metadata": {
        "id": "8GTiuJESoEKH"
      },
      "source": [
        "## (OLD) Plot the trajectories of the analyzed videos:\n",
        "This function plots the trajectories of all the body parts across the entire video. Each body part is identified by a unique color."
      ]
    },
    {
      "cell_type": "code",
      "metadata": {
        "id": "gX21zZbXoEKJ"
      },
      "source": [
        "deeplabcut.plot_trajectories(path_config_file,videofile_path)\n",
        "#, videotype=VideoType"
      ],
      "execution_count": null,
      "outputs": []
    },
    {
      "cell_type": "markdown",
      "metadata": {
        "id": "pqaCw15v8EmB"
      },
      "source": [
        "Now you can look at the plot-poses file and check the \"plot-likelihood.png\" might want to change the \"p-cutoff\" in the config.yaml file so that you have only high confidnece points plotted in the video. i.e. ~0.8 or 0.9. The current default is 0.4. "
      ]
    },
    {
      "cell_type": "markdown",
      "metadata": {
        "id": "pCrUvQIvoEKD"
      },
      "source": [
        "## (OLD) Create labeled video:\n",
        "This funtion is for visualiztion purpose and can be used to create a video in .mp4 format with labels predicted by the network. This video is saved in the same directory where the original video resides. "
      ]
    },
    {
      "cell_type": "code",
      "metadata": {
        "id": "6aDF7Q7KoEKE"
      },
      "source": [
        "deeplabcut.create_labeled_video(path_config_file,videofile_path)\n",
        "#, videotype=VideoType"
      ],
      "execution_count": null,
      "outputs": []
    },
    {
      "cell_type": "code",
      "metadata": {
        "id": "J1F_MqQEP0iY",
        "outputId": "c50dd50e-543d-4f4d-b9c5-d76a54ff8125",
        "colab": {
          "base_uri": "https://localhost:8080/"
        }
      },
      "source": [
        "!zip -r /content/file.zip /content/maDLC_MM_hands_trained/maDLC_MM_hands-Brice-2021-07-08"
      ],
      "execution_count": 48,
      "outputs": [
        {
          "output_type": "stream",
          "text": [
            "  adding: content/maDLC_MM_hands_trained/maDLC_MM_hands-Brice-2021-07-08/ (stored 0%)\n",
            "  adding: content/maDLC_MM_hands_trained/maDLC_MM_hands-Brice-2021-07-08/videos/ (stored 0%)\n",
            "  adding: content/maDLC_MM_hands_trained/maDLC_MM_hands-Brice-2021-07-08/videos/Pil05.mp4 (deflated 0%)\n",
            "  adding: content/maDLC_MM_hands_trained/maDLC_MM_hands-Brice-2021-07-08/videos/Pil06.mp4 (deflated 0%)\n",
            "  adding: content/maDLC_MM_hands_trained/maDLC_MM_hands-Brice-2021-07-08/videos/VPers1.mp4 (deflated 0%)\n",
            "  adding: content/maDLC_MM_hands_trained/maDLC_MM_hands-Brice-2021-07-08/videos/Pil03.mp4 (deflated 1%)\n",
            "  adding: content/maDLC_MM_hands_trained/maDLC_MM_hands-Brice-2021-07-08/videos/Pil02.mp4 (deflated 1%)\n",
            "  adding: content/maDLC_MM_hands_trained/maDLC_MM_hands-Brice-2021-07-08/videos/Pil01.mp4 (deflated 0%)\n",
            "  adding: content/maDLC_MM_hands_trained/maDLC_MM_hands-Brice-2021-07-08/labeled-data/ (stored 0%)\n",
            "  adding: content/maDLC_MM_hands_trained/maDLC_MM_hands-Brice-2021-07-08/labeled-data/Pil05/ (stored 0%)\n",
            "  adding: content/maDLC_MM_hands_trained/maDLC_MM_hands-Brice-2021-07-08/labeled-data/Pil05/img125.png (deflated 0%)\n",
            "  adding: content/maDLC_MM_hands_trained/maDLC_MM_hands-Brice-2021-07-08/labeled-data/Pil05/img154.png (deflated 0%)\n",
            "  adding: content/maDLC_MM_hands_trained/maDLC_MM_hands-Brice-2021-07-08/labeled-data/Pil05/img048.png (deflated 0%)\n",
            "  adding: content/maDLC_MM_hands_trained/maDLC_MM_hands-Brice-2021-07-08/labeled-data/Pil05/img429.png (deflated 0%)\n",
            "  adding: content/maDLC_MM_hands_trained/maDLC_MM_hands-Brice-2021-07-08/labeled-data/Pil05/img142.png (deflated 0%)\n",
            "  adding: content/maDLC_MM_hands_trained/maDLC_MM_hands-Brice-2021-07-08/labeled-data/Pil05/CollectedData_Brice.csv (deflated 74%)\n",
            "  adding: content/maDLC_MM_hands_trained/maDLC_MM_hands-Brice-2021-07-08/labeled-data/Pil05/img093.png (deflated 0%)\n",
            "  adding: content/maDLC_MM_hands_trained/maDLC_MM_hands-Brice-2021-07-08/labeled-data/Pil05/img057.png (deflated 0%)\n",
            "  adding: content/maDLC_MM_hands_trained/maDLC_MM_hands-Brice-2021-07-08/labeled-data/Pil05/img417.png (deflated 0%)\n",
            "  adding: content/maDLC_MM_hands_trained/maDLC_MM_hands-Brice-2021-07-08/labeled-data/Pil05/img360.png (deflated 0%)\n",
            "  adding: content/maDLC_MM_hands_trained/maDLC_MM_hands-Brice-2021-07-08/labeled-data/Pil05/img191.png (deflated 0%)\n",
            "  adding: content/maDLC_MM_hands_trained/maDLC_MM_hands-Brice-2021-07-08/labeled-data/Pil05/CollectedData_Brice.h5 (deflated 91%)\n",
            "  adding: content/maDLC_MM_hands_trained/maDLC_MM_hands-Brice-2021-07-08/labeled-data/Pil05/img315.png (deflated 0%)\n",
            "  adding: content/maDLC_MM_hands_trained/maDLC_MM_hands-Brice-2021-07-08/labeled-data/Pil05/img401.png (deflated 0%)\n",
            "  adding: content/maDLC_MM_hands_trained/maDLC_MM_hands-Brice-2021-07-08/labeled-data/Pil05/img178.png (deflated 0%)\n",
            "  adding: content/maDLC_MM_hands_trained/maDLC_MM_hands-Brice-2021-07-08/labeled-data/Pil05/img113.png (deflated 0%)\n",
            "  adding: content/maDLC_MM_hands_trained/maDLC_MM_hands-Brice-2021-07-08/labeled-data/Pil05/img074.png (deflated 0%)\n",
            "  adding: content/maDLC_MM_hands_trained/maDLC_MM_hands-Brice-2021-07-08/labeled-data/Pil05/img330.png (deflated 0%)\n",
            "  adding: content/maDLC_MM_hands_trained/maDLC_MM_hands-Brice-2021-07-08/labeled-data/Pil05/img007.png (deflated 0%)\n",
            "  adding: content/maDLC_MM_hands_trained/maDLC_MM_hands-Brice-2021-07-08/labeled-data/Pil05/img338.png (deflated 0%)\n",
            "  adding: content/maDLC_MM_hands_trained/maDLC_MM_hands-Brice-2021-07-08/labeled-data/Pil05/img230.png (deflated 0%)\n",
            "  adding: content/maDLC_MM_hands_trained/maDLC_MM_hands-Brice-2021-07-08/labeled-data/Pil05/img456.png (deflated 0%)\n",
            "  adding: content/maDLC_MM_hands_trained/maDLC_MM_hands-Brice-2021-07-08/labeled-data/Pil02/ (stored 0%)\n",
            "  adding: content/maDLC_MM_hands_trained/maDLC_MM_hands-Brice-2021-07-08/labeled-data/Pil02/img418.png (deflated 0%)\n",
            "  adding: content/maDLC_MM_hands_trained/maDLC_MM_hands-Brice-2021-07-08/labeled-data/Pil02/img140.png (deflated 0%)\n",
            "  adding: content/maDLC_MM_hands_trained/maDLC_MM_hands-Brice-2021-07-08/labeled-data/Pil02/img427.png (deflated 0%)\n",
            "  adding: content/maDLC_MM_hands_trained/maDLC_MM_hands-Brice-2021-07-08/labeled-data/Pil02/img108.png (deflated 0%)\n",
            "  adding: content/maDLC_MM_hands_trained/maDLC_MM_hands-Brice-2021-07-08/labeled-data/Pil02/img046.png (deflated 0%)\n",
            "  adding: content/maDLC_MM_hands_trained/maDLC_MM_hands-Brice-2021-07-08/labeled-data/Pil02/img012.png (deflated 0%)\n",
            "  adding: content/maDLC_MM_hands_trained/maDLC_MM_hands-Brice-2021-07-08/labeled-data/Pil02/img303.png (deflated 0%)\n",
            "  adding: content/maDLC_MM_hands_trained/maDLC_MM_hands-Brice-2021-07-08/labeled-data/Pil02/img327.png (deflated 0%)\n",
            "  adding: content/maDLC_MM_hands_trained/maDLC_MM_hands-Brice-2021-07-08/labeled-data/Pil02/img387.png (deflated 0%)\n",
            "  adding: content/maDLC_MM_hands_trained/maDLC_MM_hands-Brice-2021-07-08/labeled-data/Pil02/img399.png (deflated 0%)\n",
            "  adding: content/maDLC_MM_hands_trained/maDLC_MM_hands-Brice-2021-07-08/labeled-data/Pil02/CollectedData_Brice.csv (deflated 73%)\n",
            "  adding: content/maDLC_MM_hands_trained/maDLC_MM_hands-Brice-2021-07-08/labeled-data/Pil02/img090.png (deflated 0%)\n",
            "  adding: content/maDLC_MM_hands_trained/maDLC_MM_hands-Brice-2021-07-08/labeled-data/Pil02/CollectedData_Brice.h5 (deflated 91%)\n",
            "  adding: content/maDLC_MM_hands_trained/maDLC_MM_hands-Brice-2021-07-08/labeled-data/Pil02/img293.png (deflated 0%)\n",
            "  adding: content/maDLC_MM_hands_trained/maDLC_MM_hands-Brice-2021-07-08/labeled-data/Pil02/img354.png (deflated 0%)\n",
            "  adding: content/maDLC_MM_hands_trained/maDLC_MM_hands-Brice-2021-07-08/labeled-data/Pil02/img072.png (deflated 0%)\n",
            "  adding: content/maDLC_MM_hands_trained/maDLC_MM_hands-Brice-2021-07-08/labeled-data/Pil02/img179.png (deflated 0%)\n",
            "  adding: content/maDLC_MM_hands_trained/maDLC_MM_hands-Brice-2021-07-08/labeled-data/Pil02/img110.png (deflated 0%)\n",
            "  adding: content/maDLC_MM_hands_trained/maDLC_MM_hands-Brice-2021-07-08/labeled-data/Pil02/img052.png (deflated 0%)\n",
            "  adding: content/maDLC_MM_hands_trained/maDLC_MM_hands-Brice-2021-07-08/labeled-data/Pil02/img296.png (deflated 0%)\n",
            "  adding: content/maDLC_MM_hands_trained/maDLC_MM_hands-Brice-2021-07-08/labeled-data/Pil02/img207.png (deflated 0%)\n",
            "  adding: content/maDLC_MM_hands_trained/maDLC_MM_hands-Brice-2021-07-08/labeled-data/Pil02/img456.png (deflated 0%)\n",
            "  adding: content/maDLC_MM_hands_trained/maDLC_MM_hands-Brice-2021-07-08/labeled-data/Pil01/ (stored 0%)\n",
            "  adding: content/maDLC_MM_hands_trained/maDLC_MM_hands-Brice-2021-07-08/labeled-data/Pil01/img418.png (deflated 0%)\n",
            "  adding: content/maDLC_MM_hands_trained/maDLC_MM_hands-Brice-2021-07-08/labeled-data/Pil01/img108.png (deflated 0%)\n",
            "  adding: content/maDLC_MM_hands_trained/maDLC_MM_hands-Brice-2021-07-08/labeled-data/Pil01/img104.png (deflated 0%)\n",
            "  adding: content/maDLC_MM_hands_trained/maDLC_MM_hands-Brice-2021-07-08/labeled-data/Pil01/img394.png (deflated 0%)\n",
            "  adding: content/maDLC_MM_hands_trained/maDLC_MM_hands-Brice-2021-07-08/labeled-data/Pil01/img194.png (deflated 0%)\n",
            "  adding: content/maDLC_MM_hands_trained/maDLC_MM_hands-Brice-2021-07-08/labeled-data/Pil01/img040.png (deflated 0%)\n",
            "  adding: content/maDLC_MM_hands_trained/maDLC_MM_hands-Brice-2021-07-08/labeled-data/Pil01/CollectedData_Brice.csv (deflated 73%)\n",
            "  adding: content/maDLC_MM_hands_trained/maDLC_MM_hands-Brice-2021-07-08/labeled-data/Pil01/img093.png (deflated 0%)\n",
            "  adding: content/maDLC_MM_hands_trained/maDLC_MM_hands-Brice-2021-07-08/labeled-data/Pil01/img306.png (deflated 0%)\n",
            "  adding: content/maDLC_MM_hands_trained/maDLC_MM_hands-Brice-2021-07-08/labeled-data/Pil01/img050.png (deflated 0%)\n",
            "  adding: content/maDLC_MM_hands_trained/maDLC_MM_hands-Brice-2021-07-08/labeled-data/Pil01/img366.png (deflated 0%)\n",
            "  adding: content/maDLC_MM_hands_trained/maDLC_MM_hands-Brice-2021-07-08/labeled-data/Pil01/CollectedData_Brice.h5 (deflated 95%)\n",
            "  adding: content/maDLC_MM_hands_trained/maDLC_MM_hands-Brice-2021-07-08/labeled-data/Pil01/img147.png (deflated 0%)\n",
            "  adding: content/maDLC_MM_hands_trained/maDLC_MM_hands-Brice-2021-07-08/labeled-data/Pil01/img158.png (deflated 0%)\n",
            "  adding: content/maDLC_MM_hands_trained/maDLC_MM_hands-Brice-2021-07-08/labeled-data/Pil01/img295.png (deflated 0%)\n",
            "  adding: content/maDLC_MM_hands_trained/maDLC_MM_hands-Brice-2021-07-08/labeled-data/Pil01/img211.png (deflated 0%)\n",
            "  adding: content/maDLC_MM_hands_trained/maDLC_MM_hands-Brice-2021-07-08/labeled-data/Pil01/img267.png (deflated 0%)\n",
            "  adding: content/maDLC_MM_hands_trained/maDLC_MM_hands-Brice-2021-07-08/labeled-data/Pil01/img333.png (deflated 0%)\n",
            "  adding: content/maDLC_MM_hands_trained/maDLC_MM_hands-Brice-2021-07-08/labeled-data/Pil01/img256.png (deflated 0%)\n",
            "  adding: content/maDLC_MM_hands_trained/maDLC_MM_hands-Brice-2021-07-08/labeled-data/Pil01/img260.png (deflated 0%)\n",
            "  adding: content/maDLC_MM_hands_trained/maDLC_MM_hands-Brice-2021-07-08/labeled-data/Pil01/img424.png (deflated 0%)\n",
            "  adding: content/maDLC_MM_hands_trained/maDLC_MM_hands-Brice-2021-07-08/labeled-data/Pil01/img330.png (deflated 0%)\n",
            "  adding: content/maDLC_MM_hands_trained/maDLC_MM_hands-Brice-2021-07-08/labeled-data/Pil06/ (stored 0%)\n",
            "  adding: content/maDLC_MM_hands_trained/maDLC_MM_hands-Brice-2021-07-08/labeled-data/Pil06/img138.png (deflated 0%)\n",
            "  adding: content/maDLC_MM_hands_trained/maDLC_MM_hands-Brice-2021-07-08/labeled-data/Pil06/img598.png (deflated 0%)\n",
            "  adding: content/maDLC_MM_hands_trained/maDLC_MM_hands-Brice-2021-07-08/labeled-data/Pil06/img701.png (deflated 0%)\n",
            "  adding: content/maDLC_MM_hands_trained/maDLC_MM_hands-Brice-2021-07-08/labeled-data/Pil06/img302.png (deflated 0%)\n",
            "  adding: content/maDLC_MM_hands_trained/maDLC_MM_hands-Brice-2021-07-08/labeled-data/Pil06/img543.png (deflated 0%)\n",
            "  adding: content/maDLC_MM_hands_trained/maDLC_MM_hands-Brice-2021-07-08/labeled-data/Pil06/img669.png (deflated 0%)\n",
            "  adding: content/maDLC_MM_hands_trained/maDLC_MM_hands-Brice-2021-07-08/labeled-data/Pil06/img037.png (deflated 0%)\n",
            "  adding: content/maDLC_MM_hands_trained/maDLC_MM_hands-Brice-2021-07-08/labeled-data/Pil06/img429.png (deflated 0%)\n",
            "  adding: content/maDLC_MM_hands_trained/maDLC_MM_hands-Brice-2021-07-08/labeled-data/Pil06/img463.png (deflated 0%)\n",
            "  adding: content/maDLC_MM_hands_trained/maDLC_MM_hands-Brice-2021-07-08/labeled-data/Pil06/CollectedData_Brice.csv (deflated 73%)\n",
            "  adding: content/maDLC_MM_hands_trained/maDLC_MM_hands-Brice-2021-07-08/labeled-data/Pil06/img510.png (deflated 0%)\n",
            "  adding: content/maDLC_MM_hands_trained/maDLC_MM_hands-Brice-2021-07-08/labeled-data/Pil06/img311.png (deflated 0%)\n",
            "  adding: content/maDLC_MM_hands_trained/maDLC_MM_hands-Brice-2021-07-08/labeled-data/Pil06/CollectedData_Brice.h5 (deflated 91%)\n",
            "  adding: content/maDLC_MM_hands_trained/maDLC_MM_hands-Brice-2021-07-08/labeled-data/Pil06/img179.png (deflated 0%)\n",
            "  adding: content/maDLC_MM_hands_trained/maDLC_MM_hands-Brice-2021-07-08/labeled-data/Pil06/img250.png (deflated 0%)\n",
            "  adding: content/maDLC_MM_hands_trained/maDLC_MM_hands-Brice-2021-07-08/labeled-data/Pil06/img579.png (deflated 0%)\n",
            "  adding: content/maDLC_MM_hands_trained/maDLC_MM_hands-Brice-2021-07-08/labeled-data/Pil06/img101.png (deflated 0%)\n",
            "  adding: content/maDLC_MM_hands_trained/maDLC_MM_hands-Brice-2021-07-08/labeled-data/Pil06/img731.png (deflated 0%)\n",
            "  adding: content/maDLC_MM_hands_trained/maDLC_MM_hands-Brice-2021-07-08/labeled-data/Pil06/img392.png (deflated 0%)\n",
            "  adding: content/maDLC_MM_hands_trained/maDLC_MM_hands-Brice-2021-07-08/labeled-data/Pil06/img245.png (deflated 0%)\n",
            "  adding: content/maDLC_MM_hands_trained/maDLC_MM_hands-Brice-2021-07-08/labeled-data/Pil06/img062.png (deflated 0%)\n",
            "  adding: content/maDLC_MM_hands_trained/maDLC_MM_hands-Brice-2021-07-08/labeled-data/Pil06/img642.png (deflated 0%)\n",
            "  adding: content/maDLC_MM_hands_trained/maDLC_MM_hands-Brice-2021-07-08/labeled-data/VPers1/ (stored 0%)\n",
            "  adding: content/maDLC_MM_hands_trained/maDLC_MM_hands-Brice-2021-07-08/labeled-data/VPers1/img086.png (deflated 0%)\n",
            "  adding: content/maDLC_MM_hands_trained/maDLC_MM_hands-Brice-2021-07-08/labeled-data/VPers1/img041.png (deflated 0%)\n",
            "  adding: content/maDLC_MM_hands_trained/maDLC_MM_hands-Brice-2021-07-08/labeled-data/VPers1/img166.png (deflated 0%)\n",
            "  adding: content/maDLC_MM_hands_trained/maDLC_MM_hands-Brice-2021-07-08/labeled-data/VPers1/img032.png (deflated 0%)\n",
            "  adding: content/maDLC_MM_hands_trained/maDLC_MM_hands-Brice-2021-07-08/labeled-data/VPers1/img196.png (deflated 0%)\n",
            "  adding: content/maDLC_MM_hands_trained/maDLC_MM_hands-Brice-2021-07-08/labeled-data/VPers1/img161.png (deflated 0%)\n",
            "  adding: content/maDLC_MM_hands_trained/maDLC_MM_hands-Brice-2021-07-08/labeled-data/VPers1/img142.png (deflated 0%)\n",
            "  adding: content/maDLC_MM_hands_trained/maDLC_MM_hands-Brice-2021-07-08/labeled-data/VPers1/img011.png (deflated 0%)\n",
            "  adding: content/maDLC_MM_hands_trained/maDLC_MM_hands-Brice-2021-07-08/labeled-data/VPers1/CollectedData_Brice.csv (deflated 74%)\n",
            "  adding: content/maDLC_MM_hands_trained/maDLC_MM_hands-Brice-2021-07-08/labeled-data/VPers1/img078.png (deflated 0%)\n",
            "  adding: content/maDLC_MM_hands_trained/maDLC_MM_hands-Brice-2021-07-08/labeled-data/VPers1/img176.png (deflated 0%)\n",
            "  adding: content/maDLC_MM_hands_trained/maDLC_MM_hands-Brice-2021-07-08/labeled-data/VPers1/CollectedData_Brice.h5 (deflated 92%)\n",
            "  adding: content/maDLC_MM_hands_trained/maDLC_MM_hands-Brice-2021-07-08/labeled-data/VPers1/img003.png (deflated 0%)\n",
            "  adding: content/maDLC_MM_hands_trained/maDLC_MM_hands-Brice-2021-07-08/labeled-data/VPers1/img132.png (deflated 0%)\n",
            "  adding: content/maDLC_MM_hands_trained/maDLC_MM_hands-Brice-2021-07-08/labeled-data/VPers1/img019.png (deflated 0%)\n",
            "  adding: content/maDLC_MM_hands_trained/maDLC_MM_hands-Brice-2021-07-08/labeled-data/VPers1/img101.png (deflated 0%)\n",
            "  adding: content/maDLC_MM_hands_trained/maDLC_MM_hands-Brice-2021-07-08/labeled-data/VPers1/img055.png (deflated 0%)\n",
            "  adding: content/maDLC_MM_hands_trained/maDLC_MM_hands-Brice-2021-07-08/labeled-data/VPers1/img006.png (deflated 0%)\n",
            "  adding: content/maDLC_MM_hands_trained/maDLC_MM_hands-Brice-2021-07-08/labeled-data/VPers1/img121.png (deflated 0%)\n",
            "  adding: content/maDLC_MM_hands_trained/maDLC_MM_hands-Brice-2021-07-08/labeled-data/VPers1/img153.png (deflated 0%)\n",
            "  adding: content/maDLC_MM_hands_trained/maDLC_MM_hands-Brice-2021-07-08/labeled-data/VPers1/img047.png (deflated 0%)\n",
            "  adding: content/maDLC_MM_hands_trained/maDLC_MM_hands-Brice-2021-07-08/labeled-data/VPers1/img018.png (deflated 0%)\n",
            "  adding: content/maDLC_MM_hands_trained/maDLC_MM_hands-Brice-2021-07-08/labeled-data/Pil03/ (stored 0%)\n",
            "  adding: content/maDLC_MM_hands_trained/maDLC_MM_hands-Brice-2021-07-08/labeled-data/Pil03/img070.png (deflated 1%)\n",
            "  adding: content/maDLC_MM_hands_trained/maDLC_MM_hands-Brice-2021-07-08/labeled-data/Pil03/img120.png (deflated 1%)\n",
            "  adding: content/maDLC_MM_hands_trained/maDLC_MM_hands-Brice-2021-07-08/labeled-data/Pil03/img190.png (deflated 1%)\n",
            "  adding: content/maDLC_MM_hands_trained/maDLC_MM_hands-Brice-2021-07-08/labeled-data/Pil03/img312.png (deflated 1%)\n",
            "  adding: content/maDLC_MM_hands_trained/maDLC_MM_hands-Brice-2021-07-08/labeled-data/Pil03/CollectedData_Brice.csv (deflated 73%)\n",
            "  adding: content/maDLC_MM_hands_trained/maDLC_MM_hands-Brice-2021-07-08/labeled-data/Pil03/img054.png (deflated 1%)\n",
            "  adding: content/maDLC_MM_hands_trained/maDLC_MM_hands-Brice-2021-07-08/labeled-data/Pil03/img235.png (deflated 0%)\n",
            "  adding: content/maDLC_MM_hands_trained/maDLC_MM_hands-Brice-2021-07-08/labeled-data/Pil03/CollectedData_Brice.h5 (deflated 91%)\n",
            "  adding: content/maDLC_MM_hands_trained/maDLC_MM_hands-Brice-2021-07-08/labeled-data/Pil03/img145.png (deflated 0%)\n",
            "  adding: content/maDLC_MM_hands_trained/maDLC_MM_hands-Brice-2021-07-08/labeled-data/Pil03/img158.png (deflated 0%)\n",
            "  adding: content/maDLC_MM_hands_trained/maDLC_MM_hands-Brice-2021-07-08/labeled-data/Pil03/img025.png (deflated 0%)\n",
            "  adding: content/maDLC_MM_hands_trained/maDLC_MM_hands-Brice-2021-07-08/labeled-data/Pil03/img291.png (deflated 1%)\n",
            "  adding: content/maDLC_MM_hands_trained/maDLC_MM_hands-Brice-2021-07-08/labeled-data/Pil03/img256.png (deflated 1%)\n",
            "  adding: content/maDLC_MM_hands_trained/maDLC_MM_hands-Brice-2021-07-08/labeled-data/Pil03/img019.png (deflated 0%)\n",
            "  adding: content/maDLC_MM_hands_trained/maDLC_MM_hands-Brice-2021-07-08/labeled-data/Pil03/img101.png (deflated 1%)\n",
            "  adding: content/maDLC_MM_hands_trained/maDLC_MM_hands-Brice-2021-07-08/labeled-data/Pil03/img275.png (deflated 1%)\n",
            "  adding: content/maDLC_MM_hands_trained/maDLC_MM_hands-Brice-2021-07-08/labeled-data/Pil03/img203.png (deflated 1%)\n",
            "  adding: content/maDLC_MM_hands_trained/maDLC_MM_hands-Brice-2021-07-08/labeled-data/Pil03/img245.png (deflated 1%)\n",
            "  adding: content/maDLC_MM_hands_trained/maDLC_MM_hands-Brice-2021-07-08/labeled-data/Pil03/img222.png (deflated 1%)\n",
            "  adding: content/maDLC_MM_hands_trained/maDLC_MM_hands-Brice-2021-07-08/labeled-data/Pil03/img324.png (deflated 0%)\n",
            "  adding: content/maDLC_MM_hands_trained/maDLC_MM_hands-Brice-2021-07-08/labeled-data/Pil03/img177.png (deflated 1%)\n",
            "  adding: content/maDLC_MM_hands_trained/maDLC_MM_hands-Brice-2021-07-08/labeled-data/Pil03/img100.png (deflated 1%)\n",
            "  adding: content/maDLC_MM_hands_trained/maDLC_MM_hands-Brice-2021-07-08/evaluation-results/ (stored 0%)\n",
            "  adding: content/maDLC_MM_hands_trained/maDLC_MM_hands-Brice-2021-07-08/evaluation-results/iteration-0/ (stored 0%)\n",
            "  adding: content/maDLC_MM_hands_trained/maDLC_MM_hands-Brice-2021-07-08/evaluation-results/iteration-0/CombinedEvaluation-results.csv (deflated 34%)\n",
            "  adding: content/maDLC_MM_hands_trained/maDLC_MM_hands-Brice-2021-07-08/evaluation-results/iteration-0/maDLC_MM_handsJul8-trainset95shuffle1/ (stored 0%)\n",
            "  adding: content/maDLC_MM_hands_trained/maDLC_MM_hands-Brice-2021-07-08/evaluation-results/iteration-0/maDLC_MM_handsJul8-trainset95shuffle1/dist_10000.csv (deflated 40%)\n",
            "  adding: content/maDLC_MM_hands_trained/maDLC_MM_hands-Brice-2021-07-08/evaluation-results/iteration-0/maDLC_MM_handsJul8-trainset95shuffle1/opti_logDLC_resnet50_maDLC_MM_handsJul8shuffle1_0.json (deflated 79%)\n",
            "  adding: content/maDLC_MM_hands_trained/maDLC_MM_hands-Brice-2021-07-08/evaluation-results/iteration-0/maDLC_MM_handsJul8-trainset95shuffle1/LabeledImages_DLC_resnet50_maDLC_MM_handsJul8shuffle1_10000_snapshot-10000/ (stored 0%)\n",
            "  adding: content/maDLC_MM_hands_trained/maDLC_MM_hands-Brice-2021-07-08/evaluation-results/iteration-0/maDLC_MM_handsJul8-trainset95shuffle1/LabeledImages_DLC_resnet50_maDLC_MM_handsJul8shuffle1_10000_snapshot-10000/Training-Pil02-img090.png (deflated 0%)\n",
            "  adding: content/maDLC_MM_hands_trained/maDLC_MM_hands-Brice-2021-07-08/evaluation-results/iteration-0/maDLC_MM_handsJul8-trainset95shuffle1/LabeledImages_DLC_resnet50_maDLC_MM_handsJul8shuffle1_10000_snapshot-10000/Training-Pil05-img113.png (deflated 0%)\n",
            "  adding: content/maDLC_MM_hands_trained/maDLC_MM_hands-Brice-2021-07-08/evaluation-results/iteration-0/maDLC_MM_handsJul8-trainset95shuffle1/LabeledImages_DLC_resnet50_maDLC_MM_handsJul8shuffle1_10000_snapshot-10000/Training-Pil02-img140.png (deflated 0%)\n",
            "  adding: content/maDLC_MM_hands_trained/maDLC_MM_hands-Brice-2021-07-08/evaluation-results/iteration-0/maDLC_MM_handsJul8-trainset95shuffle1/LabeledImages_DLC_resnet50_maDLC_MM_handsJul8shuffle1_10000_snapshot-10000/Training-Pil06-img510.png (deflated 0%)\n",
            "  adding: content/maDLC_MM_hands_trained/maDLC_MM_hands-Brice-2021-07-08/evaluation-results/iteration-0/maDLC_MM_handsJul8-trainset95shuffle1/LabeledImages_DLC_resnet50_maDLC_MM_handsJul8shuffle1_10000_snapshot-10000/Training-Pil01-img256.png (deflated 0%)\n",
            "  adding: content/maDLC_MM_hands_trained/maDLC_MM_hands-Brice-2021-07-08/evaluation-results/iteration-0/maDLC_MM_handsJul8-trainset95shuffle1/LabeledImages_DLC_resnet50_maDLC_MM_handsJul8shuffle1_10000_snapshot-10000/Training-Pil02-img418.png (deflated 0%)\n",
            "  adding: content/maDLC_MM_hands_trained/maDLC_MM_hands-Brice-2021-07-08/evaluation-results/iteration-0/maDLC_MM_handsJul8-trainset95shuffle1/LabeledImages_DLC_resnet50_maDLC_MM_handsJul8shuffle1_10000_snapshot-10000/Training-Pil03-img222.png (deflated 1%)\n",
            "  adding: content/maDLC_MM_hands_trained/maDLC_MM_hands-Brice-2021-07-08/evaluation-results/iteration-0/maDLC_MM_handsJul8-trainset95shuffle1/LabeledImages_DLC_resnet50_maDLC_MM_handsJul8shuffle1_10000_snapshot-10000/Training-Pil02-img354.png (deflated 0%)\n",
            "  adding: content/maDLC_MM_hands_trained/maDLC_MM_hands-Brice-2021-07-08/evaluation-results/iteration-0/maDLC_MM_handsJul8-trainset95shuffle1/LabeledImages_DLC_resnet50_maDLC_MM_handsJul8shuffle1_10000_snapshot-10000/Training-VPers1-img019.png (deflated 0%)\n",
            "  adding: content/maDLC_MM_hands_trained/maDLC_MM_hands-Brice-2021-07-08/evaluation-results/iteration-0/maDLC_MM_handsJul8-trainset95shuffle1/LabeledImages_DLC_resnet50_maDLC_MM_handsJul8shuffle1_10000_snapshot-10000/Training-VPers1-img142.png (deflated 0%)\n",
            "  adding: content/maDLC_MM_hands_trained/maDLC_MM_hands-Brice-2021-07-08/evaluation-results/iteration-0/maDLC_MM_handsJul8-trainset95shuffle1/LabeledImages_DLC_resnet50_maDLC_MM_handsJul8shuffle1_10000_snapshot-10000/Training-VPers1-img055.png (deflated 0%)\n",
            "  adding: content/maDLC_MM_hands_trained/maDLC_MM_hands-Brice-2021-07-08/evaluation-results/iteration-0/maDLC_MM_handsJul8-trainset95shuffle1/LabeledImages_DLC_resnet50_maDLC_MM_handsJul8shuffle1_10000_snapshot-10000/Training-VPers1-img153.png (deflated 0%)\n",
            "  adding: content/maDLC_MM_hands_trained/maDLC_MM_hands-Brice-2021-07-08/evaluation-results/iteration-0/maDLC_MM_handsJul8-trainset95shuffle1/LabeledImages_DLC_resnet50_maDLC_MM_handsJul8shuffle1_10000_snapshot-10000/Training-Pil01-img295.png (deflated 0%)\n",
            "  adding: content/maDLC_MM_hands_trained/maDLC_MM_hands-Brice-2021-07-08/evaluation-results/iteration-0/maDLC_MM_handsJul8-trainset95shuffle1/LabeledImages_DLC_resnet50_maDLC_MM_handsJul8shuffle1_10000_snapshot-10000/Training-VPers1-img086.png (deflated 0%)\n",
            "  adding: content/maDLC_MM_hands_trained/maDLC_MM_hands-Brice-2021-07-08/evaluation-results/iteration-0/maDLC_MM_handsJul8-trainset95shuffle1/LabeledImages_DLC_resnet50_maDLC_MM_handsJul8shuffle1_10000_snapshot-10000/Training-VPers1-img032.png (deflated 0%)\n",
            "  adding: content/maDLC_MM_hands_trained/maDLC_MM_hands-Brice-2021-07-08/evaluation-results/iteration-0/maDLC_MM_handsJul8-trainset95shuffle1/LabeledImages_DLC_resnet50_maDLC_MM_handsJul8shuffle1_10000_snapshot-10000/Training-Pil06-img701.png (deflated 0%)\n",
            "  adding: content/maDLC_MM_hands_trained/maDLC_MM_hands-Brice-2021-07-08/evaluation-results/iteration-0/maDLC_MM_handsJul8-trainset95shuffle1/LabeledImages_DLC_resnet50_maDLC_MM_handsJul8shuffle1_10000_snapshot-10000/Training-VPers1-img003.png (deflated 0%)\n",
            "  adding: content/maDLC_MM_hands_trained/maDLC_MM_hands-Brice-2021-07-08/evaluation-results/iteration-0/maDLC_MM_handsJul8-trainset95shuffle1/LabeledImages_DLC_resnet50_maDLC_MM_handsJul8shuffle1_10000_snapshot-10000/Training-Pil02-img179.png (deflated 0%)\n",
            "  adding: content/maDLC_MM_hands_trained/maDLC_MM_hands-Brice-2021-07-08/evaluation-results/iteration-0/maDLC_MM_handsJul8-trainset95shuffle1/LabeledImages_DLC_resnet50_maDLC_MM_handsJul8shuffle1_10000_snapshot-10000/Training-Pil06-img429.png (deflated 0%)\n",
            "  adding: content/maDLC_MM_hands_trained/maDLC_MM_hands-Brice-2021-07-08/evaluation-results/iteration-0/maDLC_MM_handsJul8-trainset95shuffle1/LabeledImages_DLC_resnet50_maDLC_MM_handsJul8shuffle1_10000_snapshot-10000/Training-Pil05-img057.png (deflated 0%)\n",
            "  adding: content/maDLC_MM_hands_trained/maDLC_MM_hands-Brice-2021-07-08/evaluation-results/iteration-0/maDLC_MM_handsJul8-trainset95shuffle1/LabeledImages_DLC_resnet50_maDLC_MM_handsJul8shuffle1_10000_snapshot-10000/Training-Pil02-img072.png (deflated 0%)\n",
            "  adding: content/maDLC_MM_hands_trained/maDLC_MM_hands-Brice-2021-07-08/evaluation-results/iteration-0/maDLC_MM_handsJul8-trainset95shuffle1/LabeledImages_DLC_resnet50_maDLC_MM_handsJul8shuffle1_10000_snapshot-10000/Training-Pil03-img203.png (deflated 1%)\n",
            "  adding: content/maDLC_MM_hands_trained/maDLC_MM_hands-Brice-2021-07-08/evaluation-results/iteration-0/maDLC_MM_handsJul8-trainset95shuffle1/LabeledImages_DLC_resnet50_maDLC_MM_handsJul8shuffle1_10000_snapshot-10000/Training-Pil06-img101.png (deflated 0%)\n",
            "  adding: content/maDLC_MM_hands_trained/maDLC_MM_hands-Brice-2021-07-08/evaluation-results/iteration-0/maDLC_MM_handsJul8-trainset95shuffle1/LabeledImages_DLC_resnet50_maDLC_MM_handsJul8shuffle1_10000_snapshot-10000/Training-Pil02-img108.png (deflated 0%)\n",
            "  adding: content/maDLC_MM_hands_trained/maDLC_MM_hands-Brice-2021-07-08/evaluation-results/iteration-0/maDLC_MM_handsJul8-trainset95shuffle1/LabeledImages_DLC_resnet50_maDLC_MM_handsJul8shuffle1_10000_snapshot-10000/Training-Pil03-img101.png (deflated 1%)\n",
            "  adding: content/maDLC_MM_hands_trained/maDLC_MM_hands-Brice-2021-07-08/evaluation-results/iteration-0/maDLC_MM_handsJul8-trainset95shuffle1/LabeledImages_DLC_resnet50_maDLC_MM_handsJul8shuffle1_10000_snapshot-10000/Training-Pil03-img235.png (deflated 1%)\n",
            "  adding: content/maDLC_MM_hands_trained/maDLC_MM_hands-Brice-2021-07-08/evaluation-results/iteration-0/maDLC_MM_handsJul8-trainset95shuffle1/LabeledImages_DLC_resnet50_maDLC_MM_handsJul8shuffle1_10000_snapshot-10000/Training-Pil03-img070.png (deflated 1%)\n",
            "  adding: content/maDLC_MM_hands_trained/maDLC_MM_hands-Brice-2021-07-08/evaluation-results/iteration-0/maDLC_MM_handsJul8-trainset95shuffle1/LabeledImages_DLC_resnet50_maDLC_MM_handsJul8shuffle1_10000_snapshot-10000/Training-Pil02-img012.png (deflated 0%)\n",
            "  adding: content/maDLC_MM_hands_trained/maDLC_MM_hands-Brice-2021-07-08/evaluation-results/iteration-0/maDLC_MM_handsJul8-trainset95shuffle1/LabeledImages_DLC_resnet50_maDLC_MM_handsJul8shuffle1_10000_snapshot-10000/Training-Pil05-img315.png (deflated 0%)\n",
            "  adding: content/maDLC_MM_hands_trained/maDLC_MM_hands-Brice-2021-07-08/evaluation-results/iteration-0/maDLC_MM_handsJul8-trainset95shuffle1/LabeledImages_DLC_resnet50_maDLC_MM_handsJul8shuffle1_10000_snapshot-10000/Training-VPers1-img011.png (deflated 0%)\n",
            "  adding: content/maDLC_MM_hands_trained/maDLC_MM_hands-Brice-2021-07-08/evaluation-results/iteration-0/maDLC_MM_handsJul8-trainset95shuffle1/LabeledImages_DLC_resnet50_maDLC_MM_handsJul8shuffle1_10000_snapshot-10000/Training-Pil02-img456.png (deflated 0%)\n",
            "  adding: content/maDLC_MM_hands_trained/maDLC_MM_hands-Brice-2021-07-08/evaluation-results/iteration-0/maDLC_MM_handsJul8-trainset95shuffle1/LabeledImages_DLC_resnet50_maDLC_MM_handsJul8shuffle1_10000_snapshot-10000/Training-Pil02-img296.png (deflated 0%)\n",
            "  adding: content/maDLC_MM_hands_trained/maDLC_MM_hands-Brice-2021-07-08/evaluation-results/iteration-0/maDLC_MM_handsJul8-trainset95shuffle1/LabeledImages_DLC_resnet50_maDLC_MM_handsJul8shuffle1_10000_snapshot-10000/Training-VPers1-img196.png (deflated 0%)\n",
            "  adding: content/maDLC_MM_hands_trained/maDLC_MM_hands-Brice-2021-07-08/evaluation-results/iteration-0/maDLC_MM_handsJul8-trainset95shuffle1/LabeledImages_DLC_resnet50_maDLC_MM_handsJul8shuffle1_10000_snapshot-10000/Training-Pil06-img543.png (deflated 0%)\n",
            "  adding: content/maDLC_MM_hands_trained/maDLC_MM_hands-Brice-2021-07-08/evaluation-results/iteration-0/maDLC_MM_handsJul8-trainset95shuffle1/LabeledImages_DLC_resnet50_maDLC_MM_handsJul8shuffle1_10000_snapshot-10000/Training-Pil05-img429.png (deflated 0%)\n",
            "  adding: content/maDLC_MM_hands_trained/maDLC_MM_hands-Brice-2021-07-08/evaluation-results/iteration-0/maDLC_MM_handsJul8-trainset95shuffle1/LabeledImages_DLC_resnet50_maDLC_MM_handsJul8shuffle1_10000_snapshot-10000/Training-Pil01-img333.png (deflated 0%)\n",
            "  adding: content/maDLC_MM_hands_trained/maDLC_MM_hands-Brice-2021-07-08/evaluation-results/iteration-0/maDLC_MM_handsJul8-trainset95shuffle1/LabeledImages_DLC_resnet50_maDLC_MM_handsJul8shuffle1_10000_snapshot-10000/Test-Pil01-img093.png (deflated 0%)\n",
            "  adding: content/maDLC_MM_hands_trained/maDLC_MM_hands-Brice-2021-07-08/evaluation-results/iteration-0/maDLC_MM_handsJul8-trainset95shuffle1/LabeledImages_DLC_resnet50_maDLC_MM_handsJul8shuffle1_10000_snapshot-10000/Training-Pil02-img207.png (deflated 0%)\n",
            "  adding: content/maDLC_MM_hands_trained/maDLC_MM_hands-Brice-2021-07-08/evaluation-results/iteration-0/maDLC_MM_handsJul8-trainset95shuffle1/LabeledImages_DLC_resnet50_maDLC_MM_handsJul8shuffle1_10000_snapshot-10000/Training-Pil02-img327.png (deflated 0%)\n",
            "  adding: content/maDLC_MM_hands_trained/maDLC_MM_hands-Brice-2021-07-08/evaluation-results/iteration-0/maDLC_MM_handsJul8-trainset95shuffle1/LabeledImages_DLC_resnet50_maDLC_MM_handsJul8shuffle1_10000_snapshot-10000/Training-Pil06-img463.png (deflated 0%)\n",
            "  adding: content/maDLC_MM_hands_trained/maDLC_MM_hands-Brice-2021-07-08/evaluation-results/iteration-0/maDLC_MM_handsJul8-trainset95shuffle1/LabeledImages_DLC_resnet50_maDLC_MM_handsJul8shuffle1_10000_snapshot-10000/Training-Pil05-img360.png (deflated 0%)\n",
            "  adding: content/maDLC_MM_hands_trained/maDLC_MM_hands-Brice-2021-07-08/evaluation-results/iteration-0/maDLC_MM_handsJul8-trainset95shuffle1/LabeledImages_DLC_resnet50_maDLC_MM_handsJul8shuffle1_10000_snapshot-10000/Training-Pil05-img230.png (deflated 0%)\n",
            "  adding: content/maDLC_MM_hands_trained/maDLC_MM_hands-Brice-2021-07-08/evaluation-results/iteration-0/maDLC_MM_handsJul8-trainset95shuffle1/LabeledImages_DLC_resnet50_maDLC_MM_handsJul8shuffle1_10000_snapshot-10000/Training-VPers1-img078.png (deflated 0%)\n",
            "  adding: content/maDLC_MM_hands_trained/maDLC_MM_hands-Brice-2021-07-08/evaluation-results/iteration-0/maDLC_MM_handsJul8-trainset95shuffle1/LabeledImages_DLC_resnet50_maDLC_MM_handsJul8shuffle1_10000_snapshot-10000/Training-VPers1-img132.png (deflated 0%)\n",
            "  adding: content/maDLC_MM_hands_trained/maDLC_MM_hands-Brice-2021-07-08/evaluation-results/iteration-0/maDLC_MM_handsJul8-trainset95shuffle1/LabeledImages_DLC_resnet50_maDLC_MM_handsJul8shuffle1_10000_snapshot-10000/Training-Pil05-img178.png (deflated 0%)\n",
            "  adding: content/maDLC_MM_hands_trained/maDLC_MM_hands-Brice-2021-07-08/evaluation-results/iteration-0/maDLC_MM_handsJul8-trainset95shuffle1/LabeledImages_DLC_resnet50_maDLC_MM_handsJul8shuffle1_10000_snapshot-10000/Training-Pil03-img275.png (deflated 1%)\n",
            "  adding: content/maDLC_MM_hands_trained/maDLC_MM_hands-Brice-2021-07-08/evaluation-results/iteration-0/maDLC_MM_handsJul8-trainset95shuffle1/LabeledImages_DLC_resnet50_maDLC_MM_handsJul8shuffle1_10000_snapshot-10000/Training-Pil02-img303.png (deflated 0%)\n",
            "  adding: content/maDLC_MM_hands_trained/maDLC_MM_hands-Brice-2021-07-08/evaluation-results/iteration-0/maDLC_MM_handsJul8-trainset95shuffle1/LabeledImages_DLC_resnet50_maDLC_MM_handsJul8shuffle1_10000_snapshot-10000/Training-VPers1-img101.png (deflated 0%)\n",
            "  adding: content/maDLC_MM_hands_trained/maDLC_MM_hands-Brice-2021-07-08/evaluation-results/iteration-0/maDLC_MM_handsJul8-trainset95shuffle1/LabeledImages_DLC_resnet50_maDLC_MM_handsJul8shuffle1_10000_snapshot-10000/Training-Pil05-img401.png (deflated 0%)\n",
            "  adding: content/maDLC_MM_hands_trained/maDLC_MM_hands-Brice-2021-07-08/evaluation-results/iteration-0/maDLC_MM_handsJul8-trainset95shuffle1/LabeledImages_DLC_resnet50_maDLC_MM_handsJul8shuffle1_10000_snapshot-10000/Training-Pil01-img050.png (deflated 0%)\n",
            "  adding: content/maDLC_MM_hands_trained/maDLC_MM_hands-Brice-2021-07-08/evaluation-results/iteration-0/maDLC_MM_handsJul8-trainset95shuffle1/LabeledImages_DLC_resnet50_maDLC_MM_handsJul8shuffle1_10000_snapshot-10000/Test-Pil05-img074.png (deflated 0%)\n",
            "  adding: content/maDLC_MM_hands_trained/maDLC_MM_hands-Brice-2021-07-08/evaluation-results/iteration-0/maDLC_MM_handsJul8-trainset95shuffle1/LabeledImages_DLC_resnet50_maDLC_MM_handsJul8shuffle1_10000_snapshot-10000/Training-Pil01-img306.png (deflated 0%)\n",
            "  adding: content/maDLC_MM_hands_trained/maDLC_MM_hands-Brice-2021-07-08/evaluation-results/iteration-0/maDLC_MM_handsJul8-trainset95shuffle1/LabeledImages_DLC_resnet50_maDLC_MM_handsJul8shuffle1_10000_snapshot-10000/Training-Pil01-img104.png (deflated 0%)\n",
            "  adding: content/maDLC_MM_hands_trained/maDLC_MM_hands-Brice-2021-07-08/evaluation-results/iteration-0/maDLC_MM_handsJul8-trainset95shuffle1/LabeledImages_DLC_resnet50_maDLC_MM_handsJul8shuffle1_10000_snapshot-10000/Training-Pil06-img245.png (deflated 0%)\n",
            "  adding: content/maDLC_MM_hands_trained/maDLC_MM_hands-Brice-2021-07-08/evaluation-results/iteration-0/maDLC_MM_handsJul8-trainset95shuffle1/LabeledImages_DLC_resnet50_maDLC_MM_handsJul8shuffle1_10000_snapshot-10000/Training-Pil02-img399.png (deflated 0%)\n",
            "  adding: content/maDLC_MM_hands_trained/maDLC_MM_hands-Brice-2021-07-08/evaluation-results/iteration-0/maDLC_MM_handsJul8-trainset95shuffle1/LabeledImages_DLC_resnet50_maDLC_MM_handsJul8shuffle1_10000_snapshot-10000/Training-Pil03-img054.png (deflated 1%)\n",
            "  adding: content/maDLC_MM_hands_trained/maDLC_MM_hands-Brice-2021-07-08/evaluation-results/iteration-0/maDLC_MM_handsJul8-trainset95shuffle1/LabeledImages_DLC_resnet50_maDLC_MM_handsJul8shuffle1_10000_snapshot-10000/Training-Pil05-img456.png (deflated 0%)\n",
            "  adding: content/maDLC_MM_hands_trained/maDLC_MM_hands-Brice-2021-07-08/evaluation-results/iteration-0/maDLC_MM_handsJul8-trainset95shuffle1/LabeledImages_DLC_resnet50_maDLC_MM_handsJul8shuffle1_10000_snapshot-10000/Training-Pil05-img154.png (deflated 0%)\n",
            "  adding: content/maDLC_MM_hands_trained/maDLC_MM_hands-Brice-2021-07-08/evaluation-results/iteration-0/maDLC_MM_handsJul8-trainset95shuffle1/LabeledImages_DLC_resnet50_maDLC_MM_handsJul8shuffle1_10000_snapshot-10000/Training-VPers1-img047.png (deflated 0%)\n",
            "  adding: content/maDLC_MM_hands_trained/maDLC_MM_hands-Brice-2021-07-08/evaluation-results/iteration-0/maDLC_MM_handsJul8-trainset95shuffle1/LabeledImages_DLC_resnet50_maDLC_MM_handsJul8shuffle1_10000_snapshot-10000/Training-Pil01-img040.png (deflated 0%)\n",
            "  adding: content/maDLC_MM_hands_trained/maDLC_MM_hands-Brice-2021-07-08/evaluation-results/iteration-0/maDLC_MM_handsJul8-trainset95shuffle1/LabeledImages_DLC_resnet50_maDLC_MM_handsJul8shuffle1_10000_snapshot-10000/Training-Pil05-img142.png (deflated 0%)\n",
            "  adding: content/maDLC_MM_hands_trained/maDLC_MM_hands-Brice-2021-07-08/evaluation-results/iteration-0/maDLC_MM_handsJul8-trainset95shuffle1/LabeledImages_DLC_resnet50_maDLC_MM_handsJul8shuffle1_10000_snapshot-10000/Training-VPers1-img018.png (deflated 0%)\n",
            "  adding: content/maDLC_MM_hands_trained/maDLC_MM_hands-Brice-2021-07-08/evaluation-results/iteration-0/maDLC_MM_handsJul8-trainset95shuffle1/LabeledImages_DLC_resnet50_maDLC_MM_handsJul8shuffle1_10000_snapshot-10000/Training-Pil03-img019.png (deflated 1%)\n",
            "  adding: content/maDLC_MM_hands_trained/maDLC_MM_hands-Brice-2021-07-08/evaluation-results/iteration-0/maDLC_MM_handsJul8-trainset95shuffle1/LabeledImages_DLC_resnet50_maDLC_MM_handsJul8shuffle1_10000_snapshot-10000/Training-Pil03-img100.png (deflated 1%)\n",
            "  adding: content/maDLC_MM_hands_trained/maDLC_MM_hands-Brice-2021-07-08/evaluation-results/iteration-0/maDLC_MM_handsJul8-trainset95shuffle1/LabeledImages_DLC_resnet50_maDLC_MM_handsJul8shuffle1_10000_snapshot-10000/Training-Pil01-img267.png (deflated 0%)\n",
            "  adding: content/maDLC_MM_hands_trained/maDLC_MM_hands-Brice-2021-07-08/evaluation-results/iteration-0/maDLC_MM_handsJul8-trainset95shuffle1/LabeledImages_DLC_resnet50_maDLC_MM_handsJul8shuffle1_10000_snapshot-10000/Training-Pil03-img177.png (deflated 1%)\n",
            "  adding: content/maDLC_MM_hands_trained/maDLC_MM_hands-Brice-2021-07-08/evaluation-results/iteration-0/maDLC_MM_handsJul8-trainset95shuffle1/LabeledImages_DLC_resnet50_maDLC_MM_handsJul8shuffle1_10000_snapshot-10000/Training-Pil06-img250.png (deflated 0%)\n",
            "  adding: content/maDLC_MM_hands_trained/maDLC_MM_hands-Brice-2021-07-08/evaluation-results/iteration-0/maDLC_MM_handsJul8-trainset95shuffle1/LabeledImages_DLC_resnet50_maDLC_MM_handsJul8shuffle1_10000_snapshot-10000/Training-VPers1-img166.png (deflated 0%)\n",
            "  adding: content/maDLC_MM_hands_trained/maDLC_MM_hands-Brice-2021-07-08/evaluation-results/iteration-0/maDLC_MM_handsJul8-trainset95shuffle1/LabeledImages_DLC_resnet50_maDLC_MM_handsJul8shuffle1_10000_snapshot-10000/Training-Pil06-img669.png (deflated 0%)\n",
            "  adding: content/maDLC_MM_hands_trained/maDLC_MM_hands-Brice-2021-07-08/evaluation-results/iteration-0/maDLC_MM_handsJul8-trainset95shuffle1/LabeledImages_DLC_resnet50_maDLC_MM_handsJul8shuffle1_10000_snapshot-10000/Training-Pil03-img245.png (deflated 1%)\n",
            "  adding: content/maDLC_MM_hands_trained/maDLC_MM_hands-Brice-2021-07-08/evaluation-results/iteration-0/maDLC_MM_handsJul8-trainset95shuffle1/LabeledImages_DLC_resnet50_maDLC_MM_handsJul8shuffle1_10000_snapshot-10000/Training-Pil06-img138.png (deflated 0%)\n",
            "  adding: content/maDLC_MM_hands_trained/maDLC_MM_hands-Brice-2021-07-08/evaluation-results/iteration-0/maDLC_MM_handsJul8-trainset95shuffle1/LabeledImages_DLC_resnet50_maDLC_MM_handsJul8shuffle1_10000_snapshot-10000/Training-Pil06-img302.png (deflated 0%)\n",
            "  adding: content/maDLC_MM_hands_trained/maDLC_MM_hands-Brice-2021-07-08/evaluation-results/iteration-0/maDLC_MM_handsJul8-trainset95shuffle1/LabeledImages_DLC_resnet50_maDLC_MM_handsJul8shuffle1_10000_snapshot-10000/Training-Pil02-img052.png (deflated 0%)\n",
            "  adding: content/maDLC_MM_hands_trained/maDLC_MM_hands-Brice-2021-07-08/evaluation-results/iteration-0/maDLC_MM_handsJul8-trainset95shuffle1/LabeledImages_DLC_resnet50_maDLC_MM_handsJul8shuffle1_10000_snapshot-10000/Training-Pil05-img417.png (deflated 0%)\n",
            "  adding: content/maDLC_MM_hands_trained/maDLC_MM_hands-Brice-2021-07-08/evaluation-results/iteration-0/maDLC_MM_handsJul8-trainset95shuffle1/LabeledImages_DLC_resnet50_maDLC_MM_handsJul8shuffle1_10000_snapshot-10000/Training-Pil02-img387.png (deflated 0%)\n",
            "  adding: content/maDLC_MM_hands_trained/maDLC_MM_hands-Brice-2021-07-08/evaluation-results/iteration-0/maDLC_MM_handsJul8-trainset95shuffle1/LabeledImages_DLC_resnet50_maDLC_MM_handsJul8shuffle1_10000_snapshot-10000/Training-Pil02-img046.png (deflated 0%)\n",
            "  adding: content/maDLC_MM_hands_trained/maDLC_MM_hands-Brice-2021-07-08/evaluation-results/iteration-0/maDLC_MM_handsJul8-trainset95shuffle1/LabeledImages_DLC_resnet50_maDLC_MM_handsJul8shuffle1_10000_snapshot-10000/Training-Pil03-img145.png (deflated 1%)\n",
            "  adding: content/maDLC_MM_hands_trained/maDLC_MM_hands-Brice-2021-07-08/evaluation-results/iteration-0/maDLC_MM_handsJul8-trainset95shuffle1/LabeledImages_DLC_resnet50_maDLC_MM_handsJul8shuffle1_10000_snapshot-10000/Training-Pil01-img394.png (deflated 0%)\n",
            "  adding: content/maDLC_MM_hands_trained/maDLC_MM_hands-Brice-2021-07-08/evaluation-results/iteration-0/maDLC_MM_handsJul8-trainset95shuffle1/LabeledImages_DLC_resnet50_maDLC_MM_handsJul8shuffle1_10000_snapshot-10000/Training-Pil03-img291.png (deflated 1%)\n",
            "  adding: content/maDLC_MM_hands_trained/maDLC_MM_hands-Brice-2021-07-08/evaluation-results/iteration-0/maDLC_MM_handsJul8-trainset95shuffle1/LabeledImages_DLC_resnet50_maDLC_MM_handsJul8shuffle1_10000_snapshot-10000/Training-VPers1-img041.png (deflated 0%)\n",
            "  adding: content/maDLC_MM_hands_trained/maDLC_MM_hands-Brice-2021-07-08/evaluation-results/iteration-0/maDLC_MM_handsJul8-trainset95shuffle1/LabeledImages_DLC_resnet50_maDLC_MM_handsJul8shuffle1_10000_snapshot-10000/Training-Pil01-img366.png (deflated 0%)\n",
            "  adding: content/maDLC_MM_hands_trained/maDLC_MM_hands-Brice-2021-07-08/evaluation-results/iteration-0/maDLC_MM_handsJul8-trainset95shuffle1/LabeledImages_DLC_resnet50_maDLC_MM_handsJul8shuffle1_10000_snapshot-10000/Training-Pil06-img179.png (deflated 0%)\n",
            "  adding: content/maDLC_MM_hands_trained/maDLC_MM_hands-Brice-2021-07-08/evaluation-results/iteration-0/maDLC_MM_handsJul8-trainset95shuffle1/LabeledImages_DLC_resnet50_maDLC_MM_handsJul8shuffle1_10000_snapshot-10000/Training-Pil01-img260.png (deflated 0%)\n",
            "  adding: content/maDLC_MM_hands_trained/maDLC_MM_hands-Brice-2021-07-08/evaluation-results/iteration-0/maDLC_MM_handsJul8-trainset95shuffle1/LabeledImages_DLC_resnet50_maDLC_MM_handsJul8shuffle1_10000_snapshot-10000/Training-Pil02-img293.png (deflated 0%)\n",
            "  adding: content/maDLC_MM_hands_trained/maDLC_MM_hands-Brice-2021-07-08/evaluation-results/iteration-0/maDLC_MM_handsJul8-trainset95shuffle1/LabeledImages_DLC_resnet50_maDLC_MM_handsJul8shuffle1_10000_snapshot-10000/Training-Pil06-img642.png (deflated 0%)\n",
            "  adding: content/maDLC_MM_hands_trained/maDLC_MM_hands-Brice-2021-07-08/evaluation-results/iteration-0/maDLC_MM_handsJul8-trainset95shuffle1/LabeledImages_DLC_resnet50_maDLC_MM_handsJul8shuffle1_10000_snapshot-10000/Training-Pil03-img324.png (deflated 1%)\n",
            "  adding: content/maDLC_MM_hands_trained/maDLC_MM_hands-Brice-2021-07-08/evaluation-results/iteration-0/maDLC_MM_handsJul8-trainset95shuffle1/LabeledImages_DLC_resnet50_maDLC_MM_handsJul8shuffle1_10000_snapshot-10000/Training-Pil06-img392.png (deflated 0%)\n",
            "  adding: content/maDLC_MM_hands_trained/maDLC_MM_hands-Brice-2021-07-08/evaluation-results/iteration-0/maDLC_MM_handsJul8-trainset95shuffle1/LabeledImages_DLC_resnet50_maDLC_MM_handsJul8shuffle1_10000_snapshot-10000/Training-Pil03-img158.png (deflated 1%)\n",
            "  adding: content/maDLC_MM_hands_trained/maDLC_MM_hands-Brice-2021-07-08/evaluation-results/iteration-0/maDLC_MM_handsJul8-trainset95shuffle1/LabeledImages_DLC_resnet50_maDLC_MM_handsJul8shuffle1_10000_snapshot-10000/Training-Pil05-img007.png (deflated 0%)\n",
            "  adding: content/maDLC_MM_hands_trained/maDLC_MM_hands-Brice-2021-07-08/evaluation-results/iteration-0/maDLC_MM_handsJul8-trainset95shuffle1/LabeledImages_DLC_resnet50_maDLC_MM_handsJul8shuffle1_10000_snapshot-10000/Training-Pil06-img579.png (deflated 0%)\n",
            "  adding: content/maDLC_MM_hands_trained/maDLC_MM_hands-Brice-2021-07-08/evaluation-results/iteration-0/maDLC_MM_handsJul8-trainset95shuffle1/LabeledImages_DLC_resnet50_maDLC_MM_handsJul8shuffle1_10000_snapshot-10000/Test-Pil02-img427.png (deflated 0%)\n",
            "  adding: content/maDLC_MM_hands_trained/maDLC_MM_hands-Brice-2021-07-08/evaluation-results/iteration-0/maDLC_MM_handsJul8-trainset95shuffle1/LabeledImages_DLC_resnet50_maDLC_MM_handsJul8shuffle1_10000_snapshot-10000/Training-Pil01-img108.png (deflated 0%)\n",
            "  adding: content/maDLC_MM_hands_trained/maDLC_MM_hands-Brice-2021-07-08/evaluation-results/iteration-0/maDLC_MM_handsJul8-trainset95shuffle1/LabeledImages_DLC_resnet50_maDLC_MM_handsJul8shuffle1_10000_snapshot-10000/Training-Pil03-img025.png (deflated 0%)\n",
            "  adding: content/maDLC_MM_hands_trained/maDLC_MM_hands-Brice-2021-07-08/evaluation-results/iteration-0/maDLC_MM_handsJul8-trainset95shuffle1/LabeledImages_DLC_resnet50_maDLC_MM_handsJul8shuffle1_10000_snapshot-10000/Training-Pil03-img256.png (deflated 1%)\n",
            "  adding: content/maDLC_MM_hands_trained/maDLC_MM_hands-Brice-2021-07-08/evaluation-results/iteration-0/maDLC_MM_handsJul8-trainset95shuffle1/LabeledImages_DLC_resnet50_maDLC_MM_handsJul8shuffle1_10000_snapshot-10000/Training-Pil03-img120.png (deflated 1%)\n",
            "  adding: content/maDLC_MM_hands_trained/maDLC_MM_hands-Brice-2021-07-08/evaluation-results/iteration-0/maDLC_MM_handsJul8-trainset95shuffle1/LabeledImages_DLC_resnet50_maDLC_MM_handsJul8shuffle1_10000_snapshot-10000/Training-Pil05-img125.png (deflated 0%)\n",
            "  adding: content/maDLC_MM_hands_trained/maDLC_MM_hands-Brice-2021-07-08/evaluation-results/iteration-0/maDLC_MM_handsJul8-trainset95shuffle1/LabeledImages_DLC_resnet50_maDLC_MM_handsJul8shuffle1_10000_snapshot-10000/Training-Pil01-img158.png (deflated 0%)\n",
            "  adding: content/maDLC_MM_hands_trained/maDLC_MM_hands-Brice-2021-07-08/evaluation-results/iteration-0/maDLC_MM_handsJul8-trainset95shuffle1/LabeledImages_DLC_resnet50_maDLC_MM_handsJul8shuffle1_10000_snapshot-10000/Training-Pil05-img191.png (deflated 1%)\n",
            "  adding: content/maDLC_MM_hands_trained/maDLC_MM_hands-Brice-2021-07-08/evaluation-results/iteration-0/maDLC_MM_handsJul8-trainset95shuffle1/LabeledImages_DLC_resnet50_maDLC_MM_handsJul8shuffle1_10000_snapshot-10000/Training-Pil01-img147.png (deflated 0%)\n",
            "  adding: content/maDLC_MM_hands_trained/maDLC_MM_hands-Brice-2021-07-08/evaluation-results/iteration-0/maDLC_MM_handsJul8-trainset95shuffle1/LabeledImages_DLC_resnet50_maDLC_MM_handsJul8shuffle1_10000_snapshot-10000/Training-Pil03-img190.png (deflated 1%)\n",
            "  adding: content/maDLC_MM_hands_trained/maDLC_MM_hands-Brice-2021-07-08/evaluation-results/iteration-0/maDLC_MM_handsJul8-trainset95shuffle1/LabeledImages_DLC_resnet50_maDLC_MM_handsJul8shuffle1_10000_snapshot-10000/Test-Pil05-img093.png (deflated 0%)\n",
            "  adding: content/maDLC_MM_hands_trained/maDLC_MM_hands-Brice-2021-07-08/evaluation-results/iteration-0/maDLC_MM_handsJul8-trainset95shuffle1/LabeledImages_DLC_resnet50_maDLC_MM_handsJul8shuffle1_10000_snapshot-10000/Training-VPers1-img176.png (deflated 0%)\n",
            "  adding: content/maDLC_MM_hands_trained/maDLC_MM_hands-Brice-2021-07-08/evaluation-results/iteration-0/maDLC_MM_handsJul8-trainset95shuffle1/LabeledImages_DLC_resnet50_maDLC_MM_handsJul8shuffle1_10000_snapshot-10000/Training-Pil05-img330.png (deflated 0%)\n",
            "  adding: content/maDLC_MM_hands_trained/maDLC_MM_hands-Brice-2021-07-08/evaluation-results/iteration-0/maDLC_MM_handsJul8-trainset95shuffle1/LabeledImages_DLC_resnet50_maDLC_MM_handsJul8shuffle1_10000_snapshot-10000/Training-Pil06-img731.png (deflated 0%)\n",
            "  adding: content/maDLC_MM_hands_trained/maDLC_MM_hands-Brice-2021-07-08/evaluation-results/iteration-0/maDLC_MM_handsJul8-trainset95shuffle1/LabeledImages_DLC_resnet50_maDLC_MM_handsJul8shuffle1_10000_snapshot-10000/Test-Pil03-img312.png (deflated 1%)\n",
            "  adding: content/maDLC_MM_hands_trained/maDLC_MM_hands-Brice-2021-07-08/evaluation-results/iteration-0/maDLC_MM_handsJul8-trainset95shuffle1/LabeledImages_DLC_resnet50_maDLC_MM_handsJul8shuffle1_10000_snapshot-10000/Training-Pil01-img424.png (deflated 0%)\n",
            "  adding: content/maDLC_MM_hands_trained/maDLC_MM_hands-Brice-2021-07-08/evaluation-results/iteration-0/maDLC_MM_handsJul8-trainset95shuffle1/LabeledImages_DLC_resnet50_maDLC_MM_handsJul8shuffle1_10000_snapshot-10000/Training-VPers1-img121.png (deflated 0%)\n",
            "  adding: content/maDLC_MM_hands_trained/maDLC_MM_hands-Brice-2021-07-08/evaluation-results/iteration-0/maDLC_MM_handsJul8-trainset95shuffle1/LabeledImages_DLC_resnet50_maDLC_MM_handsJul8shuffle1_10000_snapshot-10000/Training-Pil01-img211.png (deflated 0%)\n",
            "  adding: content/maDLC_MM_hands_trained/maDLC_MM_hands-Brice-2021-07-08/evaluation-results/iteration-0/maDLC_MM_handsJul8-trainset95shuffle1/LabeledImages_DLC_resnet50_maDLC_MM_handsJul8shuffle1_10000_snapshot-10000/Test-Pil06-img311.png (deflated 0%)\n",
            "  adding: content/maDLC_MM_hands_trained/maDLC_MM_hands-Brice-2021-07-08/evaluation-results/iteration-0/maDLC_MM_handsJul8-trainset95shuffle1/LabeledImages_DLC_resnet50_maDLC_MM_handsJul8shuffle1_10000_snapshot-10000/Training-Pil01-img418.png (deflated 0%)\n",
            "  adding: content/maDLC_MM_hands_trained/maDLC_MM_hands-Brice-2021-07-08/evaluation-results/iteration-0/maDLC_MM_handsJul8-trainset95shuffle1/LabeledImages_DLC_resnet50_maDLC_MM_handsJul8shuffle1_10000_snapshot-10000/Training-Pil01-img330.png (deflated 0%)\n",
            "  adding: content/maDLC_MM_hands_trained/maDLC_MM_hands-Brice-2021-07-08/evaluation-results/iteration-0/maDLC_MM_handsJul8-trainset95shuffle1/LabeledImages_DLC_resnet50_maDLC_MM_handsJul8shuffle1_10000_snapshot-10000/Training-VPers1-img006.png (deflated 0%)\n",
            "  adding: content/maDLC_MM_hands_trained/maDLC_MM_hands-Brice-2021-07-08/evaluation-results/iteration-0/maDLC_MM_handsJul8-trainset95shuffle1/LabeledImages_DLC_resnet50_maDLC_MM_handsJul8shuffle1_10000_snapshot-10000/Training-Pil06-img037.png (deflated 0%)\n",
            "  adding: content/maDLC_MM_hands_trained/maDLC_MM_hands-Brice-2021-07-08/evaluation-results/iteration-0/maDLC_MM_handsJul8-trainset95shuffle1/LabeledImages_DLC_resnet50_maDLC_MM_handsJul8shuffle1_10000_snapshot-10000/Training-Pil06-img062.png (deflated 0%)\n",
            "  adding: content/maDLC_MM_hands_trained/maDLC_MM_hands-Brice-2021-07-08/evaluation-results/iteration-0/maDLC_MM_handsJul8-trainset95shuffle1/LabeledImages_DLC_resnet50_maDLC_MM_handsJul8shuffle1_10000_snapshot-10000/Training-VPers1-img161.png (deflated 0%)\n",
            "  adding: content/maDLC_MM_hands_trained/maDLC_MM_hands-Brice-2021-07-08/evaluation-results/iteration-0/maDLC_MM_handsJul8-trainset95shuffle1/LabeledImages_DLC_resnet50_maDLC_MM_handsJul8shuffle1_10000_snapshot-10000/Test-Pil02-img110.png (deflated 0%)\n",
            "  adding: content/maDLC_MM_hands_trained/maDLC_MM_hands-Brice-2021-07-08/evaluation-results/iteration-0/maDLC_MM_handsJul8-trainset95shuffle1/LabeledImages_DLC_resnet50_maDLC_MM_handsJul8shuffle1_10000_snapshot-10000/Training-Pil05-img048.png (deflated 0%)\n",
            "  adding: content/maDLC_MM_hands_trained/maDLC_MM_hands-Brice-2021-07-08/evaluation-results/iteration-0/maDLC_MM_handsJul8-trainset95shuffle1/LabeledImages_DLC_resnet50_maDLC_MM_handsJul8shuffle1_10000_snapshot-10000/Training-Pil05-img338.png (deflated 0%)\n",
            "  adding: content/maDLC_MM_hands_trained/maDLC_MM_hands-Brice-2021-07-08/evaluation-results/iteration-0/maDLC_MM_handsJul8-trainset95shuffle1/LabeledImages_DLC_resnet50_maDLC_MM_handsJul8shuffle1_10000_snapshot-10000/Training-Pil06-img598.png (deflated 0%)\n",
            "  adding: content/maDLC_MM_hands_trained/maDLC_MM_hands-Brice-2021-07-08/evaluation-results/iteration-0/maDLC_MM_handsJul8-trainset95shuffle1/LabeledImages_DLC_resnet50_maDLC_MM_handsJul8shuffle1_10000_snapshot-10000/Training-Pil01-img194.png (deflated 0%)\n",
            "  adding: content/maDLC_MM_hands_trained/maDLC_MM_hands-Brice-2021-07-08/evaluation-results/iteration-0/maDLC_MM_handsJul8-trainset95shuffle1/DLC_resnet50_maDLC_MM_handsJul8shuffle1_10000-results.csv (deflated 34%)\n",
            "  adding: content/maDLC_MM_hands_trained/maDLC_MM_hands-Brice-2021-07-08/evaluation-results/iteration-0/maDLC_MM_handsJul8-trainset95shuffle1/DLC_resnet50_maDLC_MM_handsJul8shuffle1_10000-snapshot-10000_full.pickle (deflated 81%)\n",
            "  adding: content/maDLC_MM_hands_trained/maDLC_MM_hands-Brice-2021-07-08/evaluation-results/iteration-0/maDLC_MM_handsJul8-trainset95shuffle1/maps/ (stored 0%)\n",
            "  adding: content/maDLC_MM_hands_trained/maDLC_MM_hands-Brice-2021-07-08/evaluation-results/iteration-0/maDLC_MM_handsJul8-trainset95shuffle1/maps/img040_scmap_train_1_0.95_snapshot-10000.png (deflated 0%)\n",
            "  adding: content/maDLC_MM_hands_trained/maDLC_MM_hands-Brice-2021-07-08/evaluation-results/iteration-0/maDLC_MM_handsJul8-trainset95shuffle1/maps/img040_locref_train_1_0.95_snapshot-10000.png (deflated 0%)\n",
            "  adding: content/maDLC_MM_hands_trained/maDLC_MM_hands-Brice-2021-07-08/evaluation-results/iteration-0/maDLC_MM_handsJul8-trainset95shuffle1/maps/img040_paf_train_1_0.95_snapshot-10000.png (deflated 0%)\n",
            "  adding: content/maDLC_MM_hands_trained/maDLC_MM_hands-Brice-2021-07-08/evaluation-results/iteration-0/maDLC_MM_handsJul8-trainset95shuffle1/results.csv (deflated 52%)\n",
            "  adding: content/maDLC_MM_hands_trained/maDLC_MM_hands-Brice-2021-07-08/evaluation-results/iteration-0/maDLC_MM_handsJul8-trainset95shuffle1/DLC_resnet50_maDLC_MM_handsJul8shuffle1_10000.h5 (deflated 67%)\n",
            "  adding: content/maDLC_MM_hands_trained/maDLC_MM_hands-Brice-2021-07-08/evaluation-results/iteration-0/maDLC_MM_handsJul8-trainset95shuffle1/DLC_resnet50_maDLC_MM_handsJul8shuffle1_10000-snapshot-10000_meta.pickle (deflated 54%)\n",
            "  adding: content/maDLC_MM_hands_trained/maDLC_MM_hands-Brice-2021-07-08/config.yaml (deflated 64%)\n",
            "  adding: content/maDLC_MM_hands_trained/maDLC_MM_hands-Brice-2021-07-08/dlc-models/ (stored 0%)\n",
            "  adding: content/maDLC_MM_hands_trained/maDLC_MM_hands-Brice-2021-07-08/dlc-models/iteration-0/ (stored 0%)\n",
            "  adding: content/maDLC_MM_hands_trained/maDLC_MM_hands-Brice-2021-07-08/dlc-models/iteration-0/maDLC_MM_handsJul8-trainset95shuffle1/ (stored 0%)\n",
            "  adding: content/maDLC_MM_hands_trained/maDLC_MM_hands-Brice-2021-07-08/dlc-models/iteration-0/maDLC_MM_handsJul8-trainset95shuffle1/train/ (stored 0%)\n",
            "  adding: content/maDLC_MM_hands_trained/maDLC_MM_hands-Brice-2021-07-08/dlc-models/iteration-0/maDLC_MM_handsJul8-trainset95shuffle1/train/snapshot-10000.index (deflated 71%)\n",
            "  adding: content/maDLC_MM_hands_trained/maDLC_MM_hands-Brice-2021-07-08/dlc-models/iteration-0/maDLC_MM_handsJul8-trainset95shuffle1/train/snapshot-10000.data-00000-of-00001 (deflated 7%)\n",
            "  adding: content/maDLC_MM_hands_trained/maDLC_MM_hands-Brice-2021-07-08/dlc-models/iteration-0/maDLC_MM_handsJul8-trainset95shuffle1/train/log.txt (deflated 68%)\n",
            "  adding: content/maDLC_MM_hands_trained/maDLC_MM_hands-Brice-2021-07-08/dlc-models/iteration-0/maDLC_MM_handsJul8-trainset95shuffle1/train/checkpoint (deflated 59%)\n",
            "  adding: content/maDLC_MM_hands_trained/maDLC_MM_hands-Brice-2021-07-08/dlc-models/iteration-0/maDLC_MM_handsJul8-trainset95shuffle1/train/snapshot-10000.meta (deflated 94%)\n",
            "  adding: content/maDLC_MM_hands_trained/maDLC_MM_hands-Brice-2021-07-08/dlc-models/iteration-0/maDLC_MM_handsJul8-trainset95shuffle1/train/log/ (stored 0%)\n",
            "  adding: content/maDLC_MM_hands_trained/maDLC_MM_hands-Brice-2021-07-08/dlc-models/iteration-0/maDLC_MM_handsJul8-trainset95shuffle1/train/log/events.out.tfevents.1625770692.6b0f271172b4 (deflated 86%)\n",
            "  adding: content/maDLC_MM_hands_trained/maDLC_MM_hands-Brice-2021-07-08/dlc-models/iteration-0/maDLC_MM_handsJul8-trainset95shuffle1/train/pose_cfg.yaml (deflated 52%)\n",
            "  adding: content/maDLC_MM_hands_trained/maDLC_MM_hands-Brice-2021-07-08/dlc-models/iteration-0/maDLC_MM_handsJul8-trainset95shuffle1/train/learning_stats.csv (deflated 83%)\n",
            "  adding: content/maDLC_MM_hands_trained/maDLC_MM_hands-Brice-2021-07-08/dlc-models/iteration-0/maDLC_MM_handsJul8-trainset95shuffle1/test/ (stored 0%)\n",
            "  adding: content/maDLC_MM_hands_trained/maDLC_MM_hands-Brice-2021-07-08/dlc-models/iteration-0/maDLC_MM_handsJul8-trainset95shuffle1/test/inferencebounds.yaml (deflated 79%)\n",
            "  adding: content/maDLC_MM_hands_trained/maDLC_MM_hands-Brice-2021-07-08/dlc-models/iteration-0/maDLC_MM_handsJul8-trainset95shuffle1/test/inference_cfg.yaml (deflated 35%)\n",
            "  adding: content/maDLC_MM_hands_trained/maDLC_MM_hands-Brice-2021-07-08/dlc-models/iteration-0/maDLC_MM_handsJul8-trainset95shuffle1/test/pose_cfg.yaml (deflated 43%)\n",
            "  adding: content/maDLC_MM_hands_trained/maDLC_MM_hands-Brice-2021-07-08/training-datasets/ (stored 0%)\n",
            "  adding: content/maDLC_MM_hands_trained/maDLC_MM_hands-Brice-2021-07-08/training-datasets/iteration-0/ (stored 0%)\n",
            "  adding: content/maDLC_MM_hands_trained/maDLC_MM_hands-Brice-2021-07-08/training-datasets/iteration-0/UnaugmentedDataSet_maDLC_MM_handsJul8/ (stored 0%)\n",
            "  adding: content/maDLC_MM_hands_trained/maDLC_MM_hands-Brice-2021-07-08/training-datasets/iteration-0/UnaugmentedDataSet_maDLC_MM_handsJul8/CollectedData_Bricewindows.h5 (deflated 79%)\n",
            "  adding: content/maDLC_MM_hands_trained/maDLC_MM_hands-Brice-2021-07-08/training-datasets/iteration-0/UnaugmentedDataSet_maDLC_MM_handsJul8/CollectedData_Brice.csv (deflated 79%)\n",
            "  adding: content/maDLC_MM_hands_trained/maDLC_MM_hands-Brice-2021-07-08/training-datasets/iteration-0/UnaugmentedDataSet_maDLC_MM_handsJul8/CollectedData_Brice.h5 (deflated 79%)\n",
            "  adding: content/maDLC_MM_hands_trained/maDLC_MM_hands-Brice-2021-07-08/training-datasets/iteration-0/UnaugmentedDataSet_maDLC_MM_handsJul8/maDLC_MM_hands_Brice95shuffle1.pickle (deflated 79%)\n",
            "  adding: content/maDLC_MM_hands_trained/maDLC_MM_hands-Brice-2021-07-08/training-datasets/iteration-0/UnaugmentedDataSet_maDLC_MM_handsJul8/CollectedData_Bricewindows.csv (deflated 79%)\n",
            "  adding: content/maDLC_MM_hands_trained/maDLC_MM_hands-Brice-2021-07-08/training-datasets/iteration-0/UnaugmentedDataSet_maDLC_MM_handsJul8/Documentation_data-maDLC_MM_hands_95shuffle1.pickle (deflated 79%)\n"
          ],
          "name": "stdout"
        }
      ]
    },
    {
      "cell_type": "markdown",
      "metadata": {
        "id": "_XTf8aUKVlKR"
      },
      "source": [
        "Quantification"
      ]
    },
    {
      "cell_type": "code",
      "metadata": {
        "id": "w2yOxqSTVn4-"
      },
      "source": [
        "import pandas as pd\n",
        "import numpy as np\n",
        "import matplotlib.pyplot as plt\n",
        "\n",
        "# set the plots to display in the Jupyter notebook\n",
        "%matplotlib inline\n",
        "\n",
        "# change plotting colors per client request\n",
        "plt.style.use('ggplot')\n",
        "\n",
        "# Increase default figure and font sizes for easier viewing.\n",
        "plt.rcParams['figure.figsize'] = (8, 6)\n",
        "plt.rcParams['font.size'] = 14"
      ],
      "execution_count": 50,
      "outputs": []
    },
    {
      "cell_type": "code",
      "metadata": {
        "id": "mPXc6w9kVsWq"
      },
      "source": [
        "video = pd.read_csv('/content/maDLC_MM_hands_trained/Inference_videos/Video_Pers2_CUTDLC_resnet50_maDLC_MM_handsJul8shuffle1_10000_bx_filtered.csv')"
      ],
      "execution_count": 71,
      "outputs": []
    },
    {
      "cell_type": "code",
      "metadata": {
        "id": "HA_mOhkQWA_y"
      },
      "source": [
        "df.columns = [\n",
        "'LThumbstartX',\n",
        "'LThumbstartY',\n",
        "'LThumbstartLike',\n",
        "'LThumbendX',\n",
        "'LThumbendY',\n",
        "'LThumbendLike',\n",
        "'LIndexstartX',\n",
        "'LIndexstartY',\n",
        "'LIndexstartLike',\n",
        "'LIndexendX',\n",
        "'LIndexendY',\n",
        "'LIndexendLike',\n",
        "'LMiddlestartX',\n",
        "'LMiddlestartY',\n",
        "'LMiddlestartLike',\n",
        "'LMiddleendX',\n",
        "'LMiddleendY',\n",
        "'LMiddleendLike',\n",
        "'LRingstartX',\n",
        "'LRingstartY',\n",
        "'LRingstartLike',\n",
        "'LRingendX',\n",
        "'LRingendY',\n",
        "'LRingendLike',\n",
        "'LLittlestartX',\n",
        "'LLittlestartY',\n",
        "'LLittlestartLike',\n",
        "'LLittleendX',\n",
        "'LLittleendY',\n",
        "'LLittleendLike',\n",
        "'RThumbstartX',\n",
        "'RThumbstartY',\n",
        "'RThumbstartLike',\n",
        "'RThumbendX',\n",
        "'RThumbendY',\n",
        "'RThumbendLike',\n",
        "'RIndexstartX',\n",
        "'RIndexstartY',\n",
        "'RIndexstartLike',\n",
        "'RIndexendX',\n",
        "'RIndexendY',\n",
        "'RIndexendLike',\n",
        "'RMiddlestartX',\n",
        "'RMiddlestartY',\n",
        "'RMiddlestartLike',\n",
        "'RMiddleendX',\n",
        "'RMiddleendY',\n",
        "'RMiddleendLike',\n",
        "'RRingstartX',\n",
        "'RRingstartY',\n",
        "'RRingstartLike',\n",
        "'RRingendX',\n",
        "'RRingendY',\n",
        "'RRingendLike',\n",
        "'RLittlestartX',\n",
        "'RLittlestartY',\n",
        "'RLittlestartLike',\n",
        "'RLittleendX',\n",
        "'RLittleendY',\n",
        "'RLittleendLike'\n",
        "]\n",
        "\n",
        "# video = video.iloc[1:]\n",
        "# video.drop(video.index[0])\n",
        "# video.drop(video.index[1])\n",
        "# video.drop(video.index[2])\n",
        "#video.drop(video.columns[[1]], axis=1)\n",
        "\n"
      ],
      "execution_count": 74,
      "outputs": []
    },
    {
      "cell_type": "code",
      "metadata": {
        "id": "0nFGvXmlYM2a",
        "outputId": "c51acbf9-d6a1-4631-d50f-51630778aa9b",
        "colab": {
          "base_uri": "https://localhost:8080/",
          "height": 163
        }
      },
      "source": [
        "video.head(3)"
      ],
      "execution_count": 75,
      "outputs": [
        {
          "output_type": "execute_result",
          "data": {
            "text/html": [
              "<div>\n",
              "<style scoped>\n",
              "    .dataframe tbody tr th:only-of-type {\n",
              "        vertical-align: middle;\n",
              "    }\n",
              "\n",
              "    .dataframe tbody tr th {\n",
              "        vertical-align: top;\n",
              "    }\n",
              "\n",
              "    .dataframe thead th {\n",
              "        text-align: right;\n",
              "    }\n",
              "</style>\n",
              "<table border=\"1\" class=\"dataframe\">\n",
              "  <thead>\n",
              "    <tr style=\"text-align: right;\">\n",
              "      <th></th>\n",
              "      <th>scorer</th>\n",
              "      <th>DLC_resnet50_maDLC_MM_handsJul8shuffle1_10000</th>\n",
              "      <th>DLC_resnet50_maDLC_MM_handsJul8shuffle1_10000.1</th>\n",
              "      <th>DLC_resnet50_maDLC_MM_handsJul8shuffle1_10000.2</th>\n",
              "      <th>DLC_resnet50_maDLC_MM_handsJul8shuffle1_10000.3</th>\n",
              "      <th>DLC_resnet50_maDLC_MM_handsJul8shuffle1_10000.4</th>\n",
              "      <th>DLC_resnet50_maDLC_MM_handsJul8shuffle1_10000.5</th>\n",
              "      <th>DLC_resnet50_maDLC_MM_handsJul8shuffle1_10000.6</th>\n",
              "      <th>DLC_resnet50_maDLC_MM_handsJul8shuffle1_10000.7</th>\n",
              "      <th>DLC_resnet50_maDLC_MM_handsJul8shuffle1_10000.8</th>\n",
              "      <th>DLC_resnet50_maDLC_MM_handsJul8shuffle1_10000.9</th>\n",
              "      <th>DLC_resnet50_maDLC_MM_handsJul8shuffle1_10000.10</th>\n",
              "      <th>DLC_resnet50_maDLC_MM_handsJul8shuffle1_10000.11</th>\n",
              "      <th>DLC_resnet50_maDLC_MM_handsJul8shuffle1_10000.12</th>\n",
              "      <th>DLC_resnet50_maDLC_MM_handsJul8shuffle1_10000.13</th>\n",
              "      <th>DLC_resnet50_maDLC_MM_handsJul8shuffle1_10000.14</th>\n",
              "      <th>DLC_resnet50_maDLC_MM_handsJul8shuffle1_10000.15</th>\n",
              "      <th>DLC_resnet50_maDLC_MM_handsJul8shuffle1_10000.16</th>\n",
              "      <th>DLC_resnet50_maDLC_MM_handsJul8shuffle1_10000.17</th>\n",
              "      <th>DLC_resnet50_maDLC_MM_handsJul8shuffle1_10000.18</th>\n",
              "      <th>DLC_resnet50_maDLC_MM_handsJul8shuffle1_10000.19</th>\n",
              "      <th>DLC_resnet50_maDLC_MM_handsJul8shuffle1_10000.20</th>\n",
              "      <th>DLC_resnet50_maDLC_MM_handsJul8shuffle1_10000.21</th>\n",
              "      <th>DLC_resnet50_maDLC_MM_handsJul8shuffle1_10000.22</th>\n",
              "      <th>DLC_resnet50_maDLC_MM_handsJul8shuffle1_10000.23</th>\n",
              "      <th>DLC_resnet50_maDLC_MM_handsJul8shuffle1_10000.24</th>\n",
              "      <th>DLC_resnet50_maDLC_MM_handsJul8shuffle1_10000.25</th>\n",
              "      <th>DLC_resnet50_maDLC_MM_handsJul8shuffle1_10000.26</th>\n",
              "      <th>DLC_resnet50_maDLC_MM_handsJul8shuffle1_10000.27</th>\n",
              "      <th>DLC_resnet50_maDLC_MM_handsJul8shuffle1_10000.28</th>\n",
              "      <th>DLC_resnet50_maDLC_MM_handsJul8shuffle1_10000.29</th>\n",
              "      <th>DLC_resnet50_maDLC_MM_handsJul8shuffle1_10000.30</th>\n",
              "      <th>DLC_resnet50_maDLC_MM_handsJul8shuffle1_10000.31</th>\n",
              "      <th>DLC_resnet50_maDLC_MM_handsJul8shuffle1_10000.32</th>\n",
              "      <th>DLC_resnet50_maDLC_MM_handsJul8shuffle1_10000.33</th>\n",
              "      <th>DLC_resnet50_maDLC_MM_handsJul8shuffle1_10000.34</th>\n",
              "      <th>DLC_resnet50_maDLC_MM_handsJul8shuffle1_10000.35</th>\n",
              "      <th>DLC_resnet50_maDLC_MM_handsJul8shuffle1_10000.36</th>\n",
              "      <th>DLC_resnet50_maDLC_MM_handsJul8shuffle1_10000.37</th>\n",
              "      <th>DLC_resnet50_maDLC_MM_handsJul8shuffle1_10000.38</th>\n",
              "      <th>DLC_resnet50_maDLC_MM_handsJul8shuffle1_10000.39</th>\n",
              "      <th>DLC_resnet50_maDLC_MM_handsJul8shuffle1_10000.40</th>\n",
              "      <th>DLC_resnet50_maDLC_MM_handsJul8shuffle1_10000.41</th>\n",
              "      <th>DLC_resnet50_maDLC_MM_handsJul8shuffle1_10000.42</th>\n",
              "      <th>DLC_resnet50_maDLC_MM_handsJul8shuffle1_10000.43</th>\n",
              "      <th>DLC_resnet50_maDLC_MM_handsJul8shuffle1_10000.44</th>\n",
              "      <th>DLC_resnet50_maDLC_MM_handsJul8shuffle1_10000.45</th>\n",
              "      <th>DLC_resnet50_maDLC_MM_handsJul8shuffle1_10000.46</th>\n",
              "      <th>DLC_resnet50_maDLC_MM_handsJul8shuffle1_10000.47</th>\n",
              "      <th>DLC_resnet50_maDLC_MM_handsJul8shuffle1_10000.48</th>\n",
              "      <th>DLC_resnet50_maDLC_MM_handsJul8shuffle1_10000.49</th>\n",
              "      <th>DLC_resnet50_maDLC_MM_handsJul8shuffle1_10000.50</th>\n",
              "      <th>DLC_resnet50_maDLC_MM_handsJul8shuffle1_10000.51</th>\n",
              "      <th>DLC_resnet50_maDLC_MM_handsJul8shuffle1_10000.52</th>\n",
              "      <th>DLC_resnet50_maDLC_MM_handsJul8shuffle1_10000.53</th>\n",
              "      <th>DLC_resnet50_maDLC_MM_handsJul8shuffle1_10000.54</th>\n",
              "      <th>DLC_resnet50_maDLC_MM_handsJul8shuffle1_10000.55</th>\n",
              "      <th>DLC_resnet50_maDLC_MM_handsJul8shuffle1_10000.56</th>\n",
              "      <th>DLC_resnet50_maDLC_MM_handsJul8shuffle1_10000.57</th>\n",
              "      <th>DLC_resnet50_maDLC_MM_handsJul8shuffle1_10000.58</th>\n",
              "      <th>DLC_resnet50_maDLC_MM_handsJul8shuffle1_10000.59</th>\n",
              "    </tr>\n",
              "  </thead>\n",
              "  <tbody>\n",
              "    <tr>\n",
              "      <th>1</th>\n",
              "      <td>bodyparts</td>\n",
              "      <td>thumbStart</td>\n",
              "      <td>thumbStart</td>\n",
              "      <td>thumbStart</td>\n",
              "      <td>thumbEnd</td>\n",
              "      <td>thumbEnd</td>\n",
              "      <td>thumbEnd</td>\n",
              "      <td>indexStart</td>\n",
              "      <td>indexStart</td>\n",
              "      <td>indexStart</td>\n",
              "      <td>indexEnd</td>\n",
              "      <td>indexEnd</td>\n",
              "      <td>indexEnd</td>\n",
              "      <td>middleStart</td>\n",
              "      <td>middleStart</td>\n",
              "      <td>middleStart</td>\n",
              "      <td>middleEnd</td>\n",
              "      <td>middleEnd</td>\n",
              "      <td>middleEnd</td>\n",
              "      <td>ringStart</td>\n",
              "      <td>ringStart</td>\n",
              "      <td>ringStart</td>\n",
              "      <td>ringEnd</td>\n",
              "      <td>ringEnd</td>\n",
              "      <td>ringEnd</td>\n",
              "      <td>littleStart</td>\n",
              "      <td>littleStart</td>\n",
              "      <td>littleStart</td>\n",
              "      <td>littleEnd</td>\n",
              "      <td>littleEnd</td>\n",
              "      <td>littleEnd</td>\n",
              "      <td>thumbStart</td>\n",
              "      <td>thumbStart</td>\n",
              "      <td>thumbStart</td>\n",
              "      <td>thumbEnd</td>\n",
              "      <td>thumbEnd</td>\n",
              "      <td>thumbEnd</td>\n",
              "      <td>indexStart</td>\n",
              "      <td>indexStart</td>\n",
              "      <td>indexStart</td>\n",
              "      <td>indexEnd</td>\n",
              "      <td>indexEnd</td>\n",
              "      <td>indexEnd</td>\n",
              "      <td>middleStart</td>\n",
              "      <td>middleStart</td>\n",
              "      <td>middleStart</td>\n",
              "      <td>middleEnd</td>\n",
              "      <td>middleEnd</td>\n",
              "      <td>middleEnd</td>\n",
              "      <td>ringStart</td>\n",
              "      <td>ringStart</td>\n",
              "      <td>ringStart</td>\n",
              "      <td>ringEnd</td>\n",
              "      <td>ringEnd</td>\n",
              "      <td>ringEnd</td>\n",
              "      <td>littleStart</td>\n",
              "      <td>littleStart</td>\n",
              "      <td>littleStart</td>\n",
              "      <td>littleEnd</td>\n",
              "      <td>littleEnd</td>\n",
              "      <td>littleEnd</td>\n",
              "    </tr>\n",
              "    <tr>\n",
              "      <th>2</th>\n",
              "      <td>coords</td>\n",
              "      <td>x</td>\n",
              "      <td>y</td>\n",
              "      <td>likelihood</td>\n",
              "      <td>x</td>\n",
              "      <td>y</td>\n",
              "      <td>likelihood</td>\n",
              "      <td>x</td>\n",
              "      <td>y</td>\n",
              "      <td>likelihood</td>\n",
              "      <td>x</td>\n",
              "      <td>y</td>\n",
              "      <td>likelihood</td>\n",
              "      <td>x</td>\n",
              "      <td>y</td>\n",
              "      <td>likelihood</td>\n",
              "      <td>x</td>\n",
              "      <td>y</td>\n",
              "      <td>likelihood</td>\n",
              "      <td>x</td>\n",
              "      <td>y</td>\n",
              "      <td>likelihood</td>\n",
              "      <td>x</td>\n",
              "      <td>y</td>\n",
              "      <td>likelihood</td>\n",
              "      <td>x</td>\n",
              "      <td>y</td>\n",
              "      <td>likelihood</td>\n",
              "      <td>x</td>\n",
              "      <td>y</td>\n",
              "      <td>likelihood</td>\n",
              "      <td>x</td>\n",
              "      <td>y</td>\n",
              "      <td>likelihood</td>\n",
              "      <td>x</td>\n",
              "      <td>y</td>\n",
              "      <td>likelihood</td>\n",
              "      <td>x</td>\n",
              "      <td>y</td>\n",
              "      <td>likelihood</td>\n",
              "      <td>x</td>\n",
              "      <td>y</td>\n",
              "      <td>likelihood</td>\n",
              "      <td>x</td>\n",
              "      <td>y</td>\n",
              "      <td>likelihood</td>\n",
              "      <td>x</td>\n",
              "      <td>y</td>\n",
              "      <td>likelihood</td>\n",
              "      <td>x</td>\n",
              "      <td>y</td>\n",
              "      <td>likelihood</td>\n",
              "      <td>x</td>\n",
              "      <td>y</td>\n",
              "      <td>likelihood</td>\n",
              "      <td>x</td>\n",
              "      <td>y</td>\n",
              "      <td>likelihood</td>\n",
              "      <td>x</td>\n",
              "      <td>y</td>\n",
              "      <td>likelihood</td>\n",
              "    </tr>\n",
              "    <tr>\n",
              "      <th>3</th>\n",
              "      <td>0</td>\n",
              "      <td>351.25</td>\n",
              "      <td>185.375</td>\n",
              "      <td>1.0</td>\n",
              "      <td>404.75</td>\n",
              "      <td>240.25</td>\n",
              "      <td>1.0</td>\n",
              "      <td>311.25</td>\n",
              "      <td>218.5</td>\n",
              "      <td>1.0</td>\n",
              "      <td>331.75</td>\n",
              "      <td>339.5</td>\n",
              "      <td>1.0</td>\n",
              "      <td>273.25</td>\n",
              "      <td>223.375</td>\n",
              "      <td>1.0</td>\n",
              "      <td>265.5</td>\n",
              "      <td>355.25</td>\n",
              "      <td>1.0</td>\n",
              "      <td>230.125</td>\n",
              "      <td>222.375</td>\n",
              "      <td>1.0</td>\n",
              "      <td>216.125</td>\n",
              "      <td>339.0</td>\n",
              "      <td>1.0</td>\n",
              "      <td>197.875</td>\n",
              "      <td>225.0</td>\n",
              "      <td>1.0</td>\n",
              "      <td>125.75</td>\n",
              "      <td>305.75</td>\n",
              "      <td>1.0</td>\n",
              "      <td>521.5</td>\n",
              "      <td>178.25</td>\n",
              "      <td>1.0</td>\n",
              "      <td>476.75</td>\n",
              "      <td>245.625</td>\n",
              "      <td>1.0</td>\n",
              "      <td>567.0</td>\n",
              "      <td>215.875</td>\n",
              "      <td>1.0</td>\n",
              "      <td>570.5</td>\n",
              "      <td>337.0</td>\n",
              "      <td>1.0</td>\n",
              "      <td>611.0</td>\n",
              "      <td>230.625</td>\n",
              "      <td>1.0</td>\n",
              "      <td>630.5</td>\n",
              "      <td>342.25</td>\n",
              "      <td>1.0</td>\n",
              "      <td>644.0</td>\n",
              "      <td>237.875</td>\n",
              "      <td>1.0</td>\n",
              "      <td>682.5</td>\n",
              "      <td>329.75</td>\n",
              "      <td>1.0</td>\n",
              "      <td>675.5</td>\n",
              "      <td>229.625</td>\n",
              "      <td>1.0</td>\n",
              "      <td>740.5</td>\n",
              "      <td>290.5</td>\n",
              "      <td>1.0</td>\n",
              "    </tr>\n",
              "  </tbody>\n",
              "</table>\n",
              "</div>"
            ],
            "text/plain": [
              "      scorer  ... DLC_resnet50_maDLC_MM_handsJul8shuffle1_10000.59\n",
              "1  bodyparts  ...                                        littleEnd\n",
              "2     coords  ...                                       likelihood\n",
              "3          0  ...                                              1.0\n",
              "\n",
              "[3 rows x 61 columns]"
            ]
          },
          "metadata": {
            "tags": []
          },
          "execution_count": 75
        }
      ]
    }
  ]
}